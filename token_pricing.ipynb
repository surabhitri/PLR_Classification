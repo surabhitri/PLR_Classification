{
 "cells": [
  {
   "cell_type": "markdown",
   "metadata": {},
   "source": [
    "#### Token Pricing"
   ]
  },
  {
   "cell_type": "code",
   "execution_count": 2,
   "metadata": {},
   "outputs": [
    {
     "name": "stdout",
     "output_type": "stream",
     "text": [
      "Requirement already satisfied: PyMuPDF in ./lib/python3.10/site-packages (1.23.19)\n",
      "Requirement already satisfied: PyMuPDFb==1.23.9 in ./lib/python3.10/site-packages (from PyMuPDF) (1.23.9)\n",
      "Requirement already satisfied: tiktoken in ./lib/python3.10/site-packages (0.5.2)\n",
      "Requirement already satisfied: regex>=2022.1.18 in ./lib/python3.10/site-packages (from tiktoken) (2023.12.25)\n",
      "Requirement already satisfied: requests>=2.26.0 in ./lib/python3.10/site-packages (from tiktoken) (2.31.0)\n",
      "Requirement already satisfied: charset-normalizer<4,>=2 in ./lib/python3.10/site-packages (from requests>=2.26.0->tiktoken) (3.3.2)\n",
      "Requirement already satisfied: idna<4,>=2.5 in ./lib/python3.10/site-packages (from requests>=2.26.0->tiktoken) (3.6)\n",
      "Requirement already satisfied: urllib3<3,>=1.21.1 in ./lib/python3.10/site-packages (from requests>=2.26.0->tiktoken) (2.1.0)\n",
      "Requirement already satisfied: certifi>=2017.4.17 in ./lib/python3.10/site-packages (from requests>=2.26.0->tiktoken) (2023.11.17)\n"
     ]
    }
   ],
   "source": [
    "!pip install PyMuPDF\n",
    "!pip install tiktoken"
   ]
  },
  {
   "cell_type": "code",
   "execution_count": 2,
   "metadata": {},
   "outputs": [],
   "source": [
    "import tiktoken\n",
    "import fitz\n",
    "import shutil, random, os"
   ]
  },
  {
   "cell_type": "code",
   "execution_count": 20,
   "metadata": {},
   "outputs": [
    {
     "name": "stdout",
     "output_type": "stream",
     "text": [
      "The text contains 9 tokens.\n"
     ]
    }
   ],
   "source": [
    "encoding = tiktoken.encoding_for_model(\"gpt-3.5-turbo\")\n",
    "\n",
    "text = \"This is an example sentence to count tokens.\"\n",
    "token_count = len(encoding.encode(text))\n",
    "print(f\"The text contains {token_count} tokens.\")"
   ]
  },
  {
   "cell_type": "markdown",
   "metadata": {},
   "source": [
    "Check PLR Literature Token Count"
   ]
  },
  {
   "cell_type": "code",
   "execution_count": 13,
   "metadata": {},
   "outputs": [
    {
     "name": "stdout",
     "output_type": "stream",
     "text": [
      "The PLR literature text contains 3316 tokens.\n"
     ]
    }
   ],
   "source": [
    "# convert PDF to text\n",
    "pdf_to_convert = fitz.open(\"/Users/st414/Documents/PLR/plr_literature.pdf\")\n",
    "full_text = \"\"\n",
    "for page in pdf_to_convert:\n",
    "    text = page.get_text()\n",
    "    full_text += text\n",
    "# get token count\n",
    "token_count = len(encoding.encode(full_text))\n",
    "print(f\"The PLR literature text contains {token_count} tokens.\")"
   ]
  },
  {
   "cell_type": "markdown",
   "metadata": {},
   "source": [
    "Iterate through a bunch of pdfs"
   ]
  },
  {
   "cell_type": "code",
   "execution_count": 18,
   "metadata": {},
   "outputs": [
    {
     "name": "stdout",
     "output_type": "stream",
     "text": [
      "Token Avg for Iteration 1: 2108.66 tokens.\n",
      "Token Avg for Iteration 2: 2775.72 tokens.\n",
      "Token Avg for Iteration 3: 2772.62 tokens.\n",
      "Token Avg for Iteration 4: 2758.7 tokens.\n",
      "Token Avg for Iteration 5: 2689.12 tokens.\n",
      "Token Avg for Iteration 6: 2401.64 tokens.\n",
      "Token Avg for Iteration 7: 2921.26 tokens.\n",
      "Token Avg for Iteration 8: 2633.36 tokens.\n",
      "Token Avg for Iteration 9: 2793.78 tokens.\n",
      "Token Avg for Iteration 10: 2562.4 tokens.\n"
     ]
    }
   ],
   "source": [
    "# dirpath = '/Volumes/erds_marks_plr/marks_plr_downloads/PLR_scraping/files_definite_plr'\n",
    "destDirectory = \"/Users/st414/Documents/PLR/sample_plrs\"\n",
    "encoding = tiktoken.encoding_for_model(\"gpt-3.5-turbo\")\n",
    "sample_size = 50\n",
    "iters = 10\n",
    "\n",
    "for i in range(iters):\n",
    "    token_count = 0\n",
    "    token_total = 0\n",
    "    filenames = random.sample(os.listdir(destDirectory), sample_size)\n",
    "\n",
    "    for fname in filenames:\n",
    "        srcpath = os.path.join(destDirectory, fname)\n",
    "        pdf_to_convert = fitz.open(srcpath)\n",
    "        # shutil.copyfile(srcpath, destDirectory)\n",
    "\n",
    "        full_text = \"\"\n",
    "        for page in pdf_to_convert:\n",
    "            text = page.get_text()\n",
    "            full_text += text\n",
    "        # get token count\n",
    "        token_count = len(encoding.encode(full_text))\n",
    "        # print(token_count)\n",
    "        token_total += token_count\n",
    "\n",
    "    # print(f\"total tokens {token_total}\")\n",
    "    token_avg = token_total / sample_size\n",
    "    print(f\"Token Avg for Iteration {i+1}: {token_avg} tokens.\")"
   ]
  },
  {
   "cell_type": "markdown",
   "metadata": {},
   "source": [
    "Rough Work"
   ]
  },
  {
   "cell_type": "code",
   "execution_count": 9,
   "metadata": {},
   "outputs": [],
   "source": [
    "# convert PDF to text\n",
    "pdf_to_convert = fitz.open(\"/Users/st414/Documents/PLR/plr_literature.pdf\")\n",
    "full_text = \"\"\n",
    "for page in pdf_to_convert:\n",
    "    text = page.get_text()\n",
    "    full_text += text"
   ]
  },
  {
   "cell_type": "code",
   "execution_count": 5,
   "metadata": {},
   "outputs": [
    {
     "data": {
      "text/plain": [
       "\"Marks, Noah 8/4/2023\\nFor Educational Use Only\\n110.6 LETTER RULINGS, DETERMINATION LETTERS,..., Fed. Tax'n Income,...\\n © 2023 Thomson Reuters. No claim to original U.S. Government Works.\\n6\\nwhether property is held for sale to customers in the ordinary course of business. 70  The IRS also does not ordinarily rule on\\ntransactions to be consummated at an indefinite future time or transactions that are the subject of pending litigation between the\\nparties. 71  Morever, the IRS will not rule on issues that are “clearly and adequately addressed by statute, regulations, decisions\\nof a court, revenue rulings, revenue procedures, notices, or other authority published in the Internal Revenue Bulletin.” 72\\n*7  The exclusion of factual issues does not preclude determination of a related legal issue. For example, the market value\\nof property can be assumed for purposes of a ruling, subject to verification when the return is audited. Indeed, the IRS often\\nconditions rulings on subsequent determinations by examining agents that payments or other transfers are reasonable in amount\\nand are what they purport to be. Moreover, the policy against ruling on “alternative plans of proposed transactions” does not\\npreclude a taxpayer from modifying a proposed transaction to eliminate or modify a feature on discovering that it may elicit an\\nadverse ruling. 73  The policy against ruling on “hypothetical situations” does not, for example, preclude a ruling on a transaction\\nthat will be consummated only if blessed by a favorable ruling. 74\\nIn addition to the general areas described above, the IRS annually provides a list of particular issues on which it either will\\nnot or “ordinarily” will not rule, 75  most of which involve factual questions that are better handled “by an agent examining\\nthe taxpayer's return than by a tax law specialist sitting at a desk in Washington.” 76  The no-ruling list includes, for example,\\nwhether compensation is reasonable in amount, whether the cost of an item usually used for personal pleasure (e.g., a swimming\\npool) can be deducted as a medical expense, and whether an acquisition was made to evade or avoid tax within the meaning of §\\n269. 77  The qualified embargo (“will not ordinarily rule”) covers many questions that to the outsider differ only imperceptibly\\nfrom those covered by the absolute embargo, including the ownership of property where title is in a person other than the alleged\\ntrue owner and whether indebtedness is incurred or carried to purchase or continue an investment in tax-exempt bonds. 78\\nFinally, rulings typically conclude with a disclaimer similar to the following:\\nThe rulings contained in this letter are based upon information and representations submitted by the taxpayer and accompanied\\nby a penalty of perjury statement executed by an appropriate party. While this office has not verified any of the material submitted\\nin support of the request for rulings, it is subject to verification on examination.\\nExcept as expressly provided herein, no opinion is expressed or implied concerning the tax consequences of any aspect of any\\ntransaction or item discussed or referenced in this letter. 79\\n5. Oral advice. The IRS does not issue oral rulings or accept oral requests for rulings, but IRS personnel do discuss with\\ntaxpayers and their representatives the availability of IRS rulings in particular situations and other procedural questions relating\\nto rulings requests. 80  Also, at the IRS's “discretion” and “as time permits,” IRS personnel may discuss substantive issues, but\\nstatements made in these discussions are not binding on the IRS, and taxpayers may not rely on them, even as a basis for relief\\nfrom retroactive effect of an inconsistent written ruling later issued to the taxpayer. 81  The IRS “does not respond to letters\\nseeking to confirm the substance of oral discussions, and the absence of a response to such a letter is not a confirmation.” 82\\nMore generally, oral “guidance is advisory only, and the Service is not bound by it, for example, when examining the taxpayer's\\nreturn.” 83\\n110.6.3 Reliance on and Revocation of Unpublished Guidance\\n\""
      ]
     },
     "execution_count": 5,
     "metadata": {},
     "output_type": "execute_result"
    }
   ],
   "source": [
    "text"
   ]
  },
  {
   "cell_type": "code",
   "execution_count": 11,
   "metadata": {},
   "outputs": [
    {
     "name": "stdout",
     "output_type": "stream",
     "text": [
      "Marks, Noah 8/4/2023\n",
      "For Educational Use Only\n",
      "110.6 LETTER RULINGS, DETERMINATION LETTERS,..., Fed. Tax'n Income,...\n",
      " © 2023 Thomson Reuters. No claim to original U.S. Government Works.\n",
      "3\n",
      "proceedings, but most courts addressing the issue have held that the IRM does not have the force of law and does not confer\n",
      "rights on taxpayers. 22\n",
      "110.6.2 Letter Rulings\n",
      "The IRS normally issues a letter ruling to a taxpayer on the tax consequences of particular events or a prospective or completed\n",
      "transaction if the taxpayer requests a ruling before filing the return reporting the events or transaction. 23  It does not, however,\n",
      "ordinarily issue such a ruling if the “identical issue” is presented by an earlier return of the taxpayer and the issue either\n",
      "(1) is under examination by a field office, being considered by Appeals, or pending in litigation involving the taxpayer or a\n",
      "related person, or (2) has been examined by a field office or Appeals and is not barred by the statute of limitations or a closing\n",
      "agreement. 24  Also, because a letter ruling is based on a statement of fact provided by the taxpayer that the IRS does not\n",
      "independently investigate, the rulings process is not appropriate for issues that are essentially factual in nature, and the IRS\n",
      "“ordinarily does not issue” rulings in such circumstances. 25\n",
      "Taxpayers often seek rulings voluntarily as guides to action or the preparation of returns and to protect themselves against an\n",
      "adverse change in IRS policies or interpretations of law. 26  A taxpayer may also request a ruling because a statutory provision\n",
      "requires the taxpayer to obtain the IRS's consent or approval. For example, a taxpayer may change a method of accounting\n",
      "only with IRS consent. 27\n",
      "1. Procedures. The IRS annually issues revenue procedures prescribing in a general way the facts, documents, and data that a\n",
      "taxpayer must include in a request for a letter ruling. 28  A ruling request must include a “complete statement” of the relevant\n",
      "facts, copies of contracts, wills, foreign laws, and other documents relevant to the request, and a summary and analysis of the\n",
      "“material facts” contained in the documents. 29  A request must state whether, “to the best of the knowledge of” the taxpayer\n",
      "and the taxpayer's representatives, “the same issue is presented in any return” of the taxpayer, a related person, a member of\n",
      "an affiliated group to which the taxpayer belongs, or “any predecessor,” which return is or was under examination, before\n",
      "Appeals, or before a federal court. 30  To reduce the number of incomplete requests it receives, the IRS has developed a checklist\n",
      "for letter ruling requests and additional checklists for rulings on particular issues, and it recommends that taxpayers or their\n",
      "representatives complete the applicable checklists and include them with ruling requests. 31  It has also developed guidelines\n",
      "for ruling requests in various areas. 32\n",
      "*4  A ruling request must include a statement and analysis of relevant supporting and contrary authorities, even if the taxpayer\n",
      "is merely asking for advice without urging a particular determination. 33  A request must also identify any pending legislation\n",
      "affecting the issue. 34\n",
      "Within 21 days after receiving a ruling request, the appropriate branch of the Associate Chief Counsel's office should contact the\n",
      "taxpayer or its representative to discuss the request informally.Within 21 days after receiving a ruling request, the appropriate\n",
      "branch of the Associate office should contact the taxpayer or its representative to discuss the request informally. 35  This\n",
      "discussion normally touches on both procedural and substantive matters, but it may be limited to procedural matters if the issues\n",
      "raised by the request are complex. If the branch representative making this contact believes that the IRS cannot rule as the\n",
      "taxpayer asks, he or she should “tell the taxpayer whether minor changes in the transaction or adherence to certain published\n",
      "positions would bring about a favorable ruling.” 36  Any informal opinion given by the branch representative is not binding on\n",
      "the IRS, and a taxpayer cannot rely on it as a basis for relief against retroactive application of the ruling under § 7805(b). 37\n",
      "Marks, Noah 8/4/2023\n",
      "For Educational Use Only\n",
      "110.6 LETTER RULINGS, DETERMINATION LETTERS,..., Fed. Tax'n Income,...\n",
      " © 2023 Thomson Reuters. No claim to original U.S. Government Works.\n",
      "4\n",
      "The IRS normally processes ruling requests in the order received. A taxpayer with a “compelling need” to have a request\n",
      "processed ahead of the regular order may request “expedited handling,” but such a request is granted only in “rare and unusual\n",
      "cases.” 38  The IRS looks most favorably on such a request if “a factor outside a taxpayer's control creates a real business need\n",
      "to obtain a letter ruling or determination letter before a certain date to avoid serious business consequences.” Priority is not\n",
      "granted to meet a date for a closing or shareholders' meeting that was set “without regard” to the time required to obtain a ruling.\n",
      "Possible fluctuations in the market price of stocks are also not a basis for priority.\n",
      "In order to speed things up, a taxpayer with a ruling request raising two or more issues may request that the issues be\n",
      "considered separately if, for example, one issue is more urgent than others. 39  Under an elective two-part procedure for rulings\n",
      "on prospective transactions, the full statement required in all requests can be accompanied by a summary statement of the facts,\n",
      "which the IRS may use in issuing the ruling. 40  The summary statement may reduce the time required to process the request\n",
      "by limiting the material that the IRS must consider in evaluating the request. Also, the taxpayer may request that the IRS send\n",
      "the ruling and other documents related to the ruling request to the taxpayer or a representative by fax, electronic facsimile, or\n",
      "encrypted email attachment. 41  Ruling requests under the jurisdiction of an Associate Office may be sent by fax, electronic\n",
      "facsimile, or encrypted email attachment. 41.1\n",
      "*5  A ruling request may include a request for a conference. 42  The IRS normally schedules a conference only if it considers a\n",
      "conference helpful or is contemplating an adverse decision on the request, but a taxpayer is entitled to one conference as a matter\n",
      "of right. 43  The IRS will offer a taxpayer an additional conference if, after the conference of right, it proposes to rule adversely\n",
      "to the taxpayer “on a new issue” or on an issue discussed at the first conference “but on different grounds.” 4445 Following a\n",
      "withdrawal, however, the Associate office to which the ruling request was assigned “generally” notifies, “by memorandum, the\n",
      "appropriate Service official in the operating division that has examination jurisdiction of the taxpayer's tax return.” 46\n",
      "On concluding that an adverse ruling will be issued (and if, in the case of a prospective transaction, that the transaction cannot\n",
      "be reformulated to elicit favorable action), taxpayers often withdraw rulings requests. Following a withdrawal, however, the\n",
      "Associate Chief Counsel to which the ruling request was assigned “generally” notifies, “by memorandum, the appropriate\n",
      "Service official in the operating division that has examination jurisdiction of the taxpayer's tax return.”\n",
      "Letter rulings and determination letters are open to public inspection, but names, addresses, and identifying numbers are\n",
      "deleted before public disclosure, and other deletions may be allowed in particular cases. 47  A ruling request must identify any\n",
      "information other than automatically deleted items that the taxpayer believes should be deleted from the public disclosure. 48\n",
      "Procedures are also provided for protesting public disclosure of information after a ruling is issued.\n",
      "2. Fees. Congress decided in 1987 that “the relatively small number of persons that request letter rulings, determination letters,\n",
      "and opinion letters should pay for the benefit of these services.” 49  It directed the IRS to develop a schedule of fees for its\n",
      "services in responding to the requests. 50  Pursuant to this directive, the IRS generally charges user fees for requests for letter\n",
      "rulings, determination letters, advance pricing agreements (APAs), renewals of APAs, reconsiderations of letter rulings and\n",
      "determination letters, prefiling agreements, and closing agreements requested before the relevant returns are filed. 51  The fee,\n",
      "as of February 4, 2021, is generally $38,000, but lower fees are provided for most accounting changes, and the fee for a\n",
      "determination letter is usually $275. 52\n",
      "Marks, Noah 8/4/2023\n",
      "For Educational Use Only\n",
      "110.6 LETTER RULINGS, DETERMINATION LETTERS,..., Fed. Tax'n Income,...\n",
      " © 2023 Thomson Reuters. No claim to original U.S. Government Works.\n",
      "5\n",
      "3. Guidelines for requests on recurring subjects. To guide taxpayers requesting rulings on particular subjects, the IRS issues\n",
      "numerous special instructions, including checklists, questionnaires, and percentage and other quantitative benchmarks. The\n",
      "principal areas include the following:\n",
      "*6  • a. Section 302: distributions to redeem stock. 53\n",
      "• b. Section 302(b)(4): partial liquidations. 54\n",
      "• c. Section 331: liquidations generally. 55\n",
      "• d. Section 332: liquidation by parent corporations of 80-percent-or-more owned subsidiaries. 56\n",
      "• e. Section 351: transfers to controlled corporations. 57\n",
      "• f. Section 355: spin-offs and similar transactions. 58\n",
      "• g. Section 368(a): meaning of “substantially all” in C reorganizations. 59\n",
      "• h. Whether a liquidating trust is properly classified as a trust or a corporation. 60\n",
      "• i. Whether leveraged leases are properly classified as leases or as sales. 61\n",
      "• j. Tax-exempt status. 62\n",
      "• k. Private foundation status. 63\n",
      "• l. Qualification of pension, annuity, profit-sharing, and stock bonus plans. 64\n",
      "• m. Nonqualified deferred compensation. 65\n",
      "• n. Whether co-ownership of real property is considered a partnership for purposes of § 1031. 66\n",
      "4. No-ruling areas. Except when required by the Code or regulations, 67  the IRS issues rulings as a matter of discretion\n",
      "“[w]henever appropriate in the interest of sound tax administration.” 68  As a matter of policy, however, the IRS will not issue\n",
      "rulings on some issues and will not ordinarily rule on certain others, either because of the inherently factual nature of the\n",
      "problem or for other reasons. It will not, for example, rule on (1) whether “the economic substance doctrine is relevant to\n",
      "any transaction,” (2) a transaction lacking in bona fide business purpose or having tax reduction as its principal purpose, (3)\n",
      "alternative plans for a proposed transaction or hypothetical situations, (4) a matter as to which a judicial decision adverse to the\n",
      "government has been handed down if the IRS has not yet decided whether to follow the decision or litigate the issue further, (5)\n",
      "whether a proposed transaction would subject a person to criminal penalties, (6) whether, for purposes of procedural or penalty\n",
      "rules, there is reasonable cause, due diligence, good faith, or clear and convincing evidence, (7) any “matter involving” Circular\n",
      "230, (8) whether a completed transaction can be rescinded, or (9) any frivolous issue. 69  Rulings are “not ordinarily” issued\n",
      "on matters of fact, such as the market value of property, whether an interest in a corporation is, in substance, debt or equity, or\n",
      "Marks, Noah 8/4/2023\n",
      "For Educational Use Only\n",
      "110.6 LETTER RULINGS, DETERMINATION LETTERS,..., Fed. Tax'n Income,...\n",
      " © 2023 Thomson Reuters. No claim to original U.S. Government Works.\n",
      "6\n",
      "whether property is held for sale to customers in the ordinary course of business. 70  The IRS also does not ordinarily rule on\n",
      "transactions to be consummated at an indefinite future time or transactions that are the subject of pending litigation between the\n",
      "parties. 71  Morever, the IRS will not rule on issues that are “clearly and adequately addressed by statute, regulations, decisions\n",
      "of a court, revenue rulings, revenue procedures, notices, or other authority published in the Internal Revenue Bulletin.” 72\n",
      "*7  The exclusion of factual issues does not preclude determination of a related legal issue. For example, the market value\n",
      "of property can be assumed for purposes of a ruling, subject to verification when the return is audited. Indeed, the IRS often\n",
      "conditions rulings on subsequent determinations by examining agents that payments or other transfers are reasonable in amount\n",
      "and are what they purport to be. Moreover, the policy against ruling on “alternative plans of proposed transactions” does not\n",
      "preclude a taxpayer from modifying a proposed transaction to eliminate or modify a feature on discovering that it may elicit an\n",
      "adverse ruling. 73  The policy against ruling on “hypothetical situations” does not, for example, preclude a ruling on a transaction\n",
      "that will be consummated only if blessed by a favorable ruling. 74\n",
      "In addition to the general areas described above, the IRS annually provides a list of particular issues on which it either will\n",
      "not or “ordinarily” will not rule, 75  most of which involve factual questions that are better handled “by an agent examining\n",
      "the taxpayer's return than by a tax law specialist sitting at a desk in Washington.” 76  The no-ruling list includes, for example,\n",
      "whether compensation is reasonable in amount, whether the cost of an item usually used for personal pleasure (e.g., a swimming\n",
      "pool) can be deducted as a medical expense, and whether an acquisition was made to evade or avoid tax within the meaning of §\n",
      "269. 77  The qualified embargo (“will not ordinarily rule”) covers many questions that to the outsider differ only imperceptibly\n",
      "from those covered by the absolute embargo, including the ownership of property where title is in a person other than the alleged\n",
      "true owner and whether indebtedness is incurred or carried to purchase or continue an investment in tax-exempt bonds. 78\n",
      "Finally, rulings typically conclude with a disclaimer similar to the following:\n",
      "The rulings contained in this letter are based upon information and representations submitted by the taxpayer and accompanied\n",
      "by a penalty of perjury statement executed by an appropriate party. While this office has not verified any of the material submitted\n",
      "in support of the request for rulings, it is subject to verification on examination.\n",
      "Except as expressly provided herein, no opinion is expressed or implied concerning the tax consequences of any aspect of any\n",
      "transaction or item discussed or referenced in this letter. 79\n",
      "5. Oral advice. The IRS does not issue oral rulings or accept oral requests for rulings, but IRS personnel do discuss with\n",
      "taxpayers and their representatives the availability of IRS rulings in particular situations and other procedural questions relating\n",
      "to rulings requests. 80  Also, at the IRS's “discretion” and “as time permits,” IRS personnel may discuss substantive issues, but\n",
      "statements made in these discussions are not binding on the IRS, and taxpayers may not rely on them, even as a basis for relief\n",
      "from retroactive effect of an inconsistent written ruling later issued to the taxpayer. 81  The IRS “does not respond to letters\n",
      "seeking to confirm the substance of oral discussions, and the absence of a response to such a letter is not a confirmation.” 82\n",
      "More generally, oral “guidance is advisory only, and the Service is not bound by it, for example, when examining the taxpayer's\n",
      "return.” 83\n",
      "110.6.3 Reliance on and Revocation of Unpublished Guidance\n",
      "\n"
     ]
    }
   ],
   "source": [
    "print(full_text)"
   ]
  }
 ],
 "metadata": {
  "kernelspec": {
   "display_name": "base",
   "language": "python",
   "name": "python3"
  },
  "language_info": {
   "codemirror_mode": {
    "name": "ipython",
    "version": 3
   },
   "file_extension": ".py",
   "mimetype": "text/x-python",
   "name": "python",
   "nbconvert_exporter": "python",
   "pygments_lexer": "ipython3",
   "version": "3.10.12"
  },
  "orig_nbformat": 4
 },
 "nbformat": 4,
 "nbformat_minor": 2
}
