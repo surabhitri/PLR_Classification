{
 "cells": [
  {
   "cell_type": "markdown",
   "metadata": {},
   "source": [
    "#### Token Pricing"
   ]
  },
  {
   "cell_type": "code",
   "execution_count": 2,
   "metadata": {},
   "outputs": [
    {
     "name": "stdout",
     "output_type": "stream",
     "text": [
      "Requirement already satisfied: PyMuPDF in ./lib/python3.10/site-packages (1.23.19)\n",
      "Requirement already satisfied: PyMuPDFb==1.23.9 in ./lib/python3.10/site-packages (from PyMuPDF) (1.23.9)\n",
      "Requirement already satisfied: tiktoken in ./lib/python3.10/site-packages (0.5.2)\n",
      "Requirement already satisfied: regex>=2022.1.18 in ./lib/python3.10/site-packages (from tiktoken) (2023.12.25)\n",
      "Requirement already satisfied: requests>=2.26.0 in ./lib/python3.10/site-packages (from tiktoken) (2.31.0)\n",
      "Requirement already satisfied: charset-normalizer<4,>=2 in ./lib/python3.10/site-packages (from requests>=2.26.0->tiktoken) (3.3.2)\n",
      "Requirement already satisfied: idna<4,>=2.5 in ./lib/python3.10/site-packages (from requests>=2.26.0->tiktoken) (3.6)\n",
      "Requirement already satisfied: urllib3<3,>=1.21.1 in ./lib/python3.10/site-packages (from requests>=2.26.0->tiktoken) (2.1.0)\n",
      "Requirement already satisfied: certifi>=2017.4.17 in ./lib/python3.10/site-packages (from requests>=2.26.0->tiktoken) (2023.11.17)\n"
     ]
    }
   ],
   "source": [
    "!pip install PyMuPDF\n",
    "!pip install tiktoken"
   ]
  },
  {
   "cell_type": "code",
   "execution_count": 3,
   "metadata": {},
   "outputs": [],
   "source": [
    "import tiktoken\n",
    "import fitz\n",
    "import shutil, random, os"
   ]
  },
  {
   "cell_type": "code",
   "execution_count": 4,
   "metadata": {},
   "outputs": [
    {
     "name": "stdout",
     "output_type": "stream",
     "text": [
      "The text contains 9 tokens.\n"
     ]
    }
   ],
   "source": [
    "encoding = tiktoken.encoding_for_model(\"gpt-3.5-turbo\")\n",
    "\n",
    "text = \"This is an example sentence to count tokens.\"\n",
    "token_count = len(encoding.encode(text))\n",
    "print(f\"The text contains {token_count} tokens.\")"
   ]
  },
  {
   "cell_type": "markdown",
   "metadata": {},
   "source": [
    "Check PLR Literature Token Count"
   ]
  },
  {
   "cell_type": "code",
   "execution_count": 24,
   "metadata": {},
   "outputs": [
    {
     "name": "stdout",
     "output_type": "stream",
     "text": [
      "The PLR literature text contains 863 tokens.\n"
     ]
    }
   ],
   "source": [
    "# convert PDF to text\n",
    "pdf_to_convert = fitz.open('/Users/st414/Documents/PLR/plr_literature.pdf')\n",
    "for page in pdf_to_convert: \n",
    "  text = page.get_text()\n",
    "# get token count\n",
    "token_count = len(encoding.encode(text))\n",
    "print(f\"The PLR literature text contains {token_count} tokens.\")"
   ]
  },
  {
   "cell_type": "markdown",
   "metadata": {},
   "source": [
    "Iterate through a bunch of pdfs"
   ]
  },
  {
   "cell_type": "code",
   "execution_count": 35,
   "metadata": {},
   "outputs": [
    {
     "name": "stdout",
     "output_type": "stream",
     "text": [
      "Token Avg for Iteration 1: 223.2 tokens.\n",
      "Token Avg for Iteration 2: 209.4 tokens.\n",
      "Token Avg for Iteration 3: 360.8 tokens.\n",
      "Token Avg for Iteration 4: 310.4 tokens.\n",
      "Token Avg for Iteration 5: 237.8 tokens.\n",
      "Token Avg for Iteration 6: 217.8 tokens.\n",
      "Token Avg for Iteration 7: 339.2 tokens.\n",
      "Token Avg for Iteration 8: 191.4 tokens.\n",
      "Token Avg for Iteration 9: 125.2 tokens.\n",
      "Token Avg for Iteration 10: 357.4 tokens.\n"
     ]
    }
   ],
   "source": [
    "# dirpath = '/Volumes/erds_marks_plr/marks_plr_downloads/PLR_scraping/files_definite_plr'\n",
    "destDirectory = '/Users/st414/Documents/PLR/sample_plrs'\n",
    "encoding = tiktoken.encoding_for_model(\"gpt-3.5-turbo\")\n",
    "sample_size = 5\n",
    "iters = 10\n",
    "\n",
    "for i in range(iters):\n",
    "    token_count = 0\n",
    "    token_total = 0\n",
    "    filenames = random.sample(os.listdir(destDirectory), sample_size)\n",
    "    for fname in filenames:\n",
    "        srcpath = os.path.join(destDirectory, fname)\n",
    "        pdf_to_convert = fitz.open(srcpath)\n",
    "        # shutil.copyfile(srcpath, destDirectory)\n",
    "        for page in pdf_to_convert: \n",
    "            text = page.get_text()\n",
    "        # get token count\n",
    "        token_count = len(encoding.encode(text))\n",
    "        # print(token_count)\n",
    "        token_total += token_count\n",
    "    # print(f\"total tokens {token_total}\")  \n",
    "    token_avg = token_total/sample_size\n",
    "    print(f\"Token Avg for Iteration {i+1}: {token_avg} tokens.\")"
   ]
  },
  {
   "cell_type": "code",
   "execution_count": null,
   "metadata": {},
   "outputs": [],
   "source": []
  }
 ],
 "metadata": {
  "kernelspec": {
   "display_name": "base",
   "language": "python",
   "name": "python3"
  },
  "language_info": {
   "codemirror_mode": {
    "name": "ipython",
    "version": 3
   },
   "file_extension": ".py",
   "mimetype": "text/x-python",
   "name": "python",
   "nbconvert_exporter": "python",
   "pygments_lexer": "ipython3",
   "version": "3.10.12"
  },
  "orig_nbformat": 4
 },
 "nbformat": 4,
 "nbformat_minor": 2
}
