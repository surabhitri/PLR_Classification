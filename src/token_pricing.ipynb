{
 "cells": [
  {
   "cell_type": "markdown",
   "metadata": {},
   "source": [
    "## Notebook Goal - Forecasting token usage\n",
    "This notebook aims to get a ballpark number for tokens that will be used for classifying the ~28k PLRs we have in hand\n",
    "- does this by calculating the average number of tokens a typical PLR will have usking the tiktoken library"
   ]
  },
  {
   "cell_type": "code",
   "execution_count": 1,
   "metadata": {},
   "outputs": [],
   "source": [
    "import tiktoken\n",
    "import fitz\n",
    "import shutil, random, os"
   ]
  },
  {
   "cell_type": "markdown",
   "metadata": {},
   "source": [
    "Test tiktoken"
   ]
  },
  {
   "cell_type": "code",
   "execution_count": 3,
   "metadata": {},
   "outputs": [
    {
     "name": "stdout",
     "output_type": "stream",
     "text": [
      "The text contains 9 tokens.\n"
     ]
    }
   ],
   "source": [
    "encoding = tiktoken.encoding_for_model(\"gpt-3.5-turbo-1106\")\n",
    "\n",
    "text = \"This is an example sentence to count tokens.\"\n",
    "token_count = len(encoding.encode(text))\n",
    "print(f\"The text contains {token_count} tokens.\")"
   ]
  },
  {
   "cell_type": "markdown",
   "metadata": {},
   "source": [
    "Check PLR literature token count - this literature will be used to provide context about PLRs to our gpt model"
   ]
  },
  {
   "cell_type": "code",
   "execution_count": 7,
   "metadata": {},
   "outputs": [
    {
     "name": "stdout",
     "output_type": "stream",
     "text": [
      "The PLR literature text contains 3316 tokens.\n"
     ]
    }
   ],
   "source": [
    "# convert PDF to text\n",
    "pdf_to_convert = fitz.open(\"/Users/st414/Documents/PLR/plr_literature.pdf\")\n",
    "full_text = \"\"\n",
    "for page in pdf_to_convert:\n",
    "    text = page.get_text()\n",
    "    full_text += text\n",
    "# get token count\n",
    "token_count = len(encoding.encode(full_text))\n",
    "print(f\"The PLR literature text contains {token_count} tokens.\")"
   ]
  },
  {
   "cell_type": "markdown",
   "metadata": {},
   "source": [
    "Do a number of itirations over a sample of randomly selected PLRs to get an average for the number of tokens/ PLR"
   ]
  },
  {
   "cell_type": "code",
   "execution_count": 4,
   "metadata": {},
   "outputs": [
    {
     "name": "stdout",
     "output_type": "stream",
     "text": [
      "Token Avg for Iteration 1: 2224.3 tokens.\n",
      "Token Avg for Iteration 2: 2244.0333333333333 tokens.\n",
      "Token Avg for Iteration 3: 3214.5666666666666 tokens.\n",
      "Token Avg for Iteration 4: 2097.366666666667 tokens.\n",
      "Token Avg for Iteration 5: 2877.6 tokens.\n",
      "Token Avg for Iteration 6: 2356.266666666667 tokens.\n",
      "Token Avg for Iteration 7: 2694.5333333333333 tokens.\n",
      "Token Avg for Iteration 8: 2846.5 tokens.\n",
      "Token Avg for Iteration 9: 1963.0666666666666 tokens.\n",
      "Token Avg for Iteration 10: 2721.133333333333 tokens.\n"
     ]
    }
   ],
   "source": [
    "# dirpath = '/Volumes/erds_marks_plr/marks_plr_downloads/PLR_scraping/files_definite_plr'\n",
    "destDirectory = \"/Users/st414/Documents/PLR/sample_plrs\"\n",
    "encoding = tiktoken.encoding_for_model(\"gpt-3.5-turbo\")\n",
    "sample_size = 30\n",
    "iters = 10\n",
    "\n",
    "for i in range(iters):\n",
    "    token_count = 0\n",
    "    token_total = 0\n",
    "    filenames = random.sample(os.listdir(destDirectory), sample_size)\n",
    "\n",
    "    for fname in filenames:\n",
    "        srcpath = os.path.join(destDirectory, fname)\n",
    "        pdf_to_convert = fitz.open(srcpath)\n",
    "        # shutil.copyfile(srcpath, destDirectory)\n",
    "\n",
    "        full_text = \"\"\n",
    "        for page in pdf_to_convert:\n",
    "            text = page.get_text()\n",
    "            full_text += text\n",
    "        # get token count\n",
    "        token_count = len(encoding.encode(full_text))\n",
    "        # print(token_count)\n",
    "        token_total += token_count\n",
    "\n",
    "    # print(f\"total tokens {token_total}\")\n",
    "    token_avg = token_total / sample_size\n",
    "    print(f\"Token Avg for Iteration {i+1}: {token_avg} tokens.\")"
   ]
  }
 ],
 "metadata": {
  "kernelspec": {
   "display_name": "base",
   "language": "python",
   "name": "python3"
  },
  "language_info": {
   "codemirror_mode": {
    "name": "ipython",
    "version": 3
   },
   "file_extension": ".py",
   "mimetype": "text/x-python",
   "name": "python",
   "nbconvert_exporter": "python",
   "pygments_lexer": "ipython3",
   "version": "3.10.12"
  },
  "orig_nbformat": 4
 },
 "nbformat": 4,
 "nbformat_minor": 2
}
