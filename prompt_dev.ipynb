{
 "cells": [
  {
   "cell_type": "markdown",
   "metadata": {},
   "source": [
    "### Understanding why adverse documents are being tagged as non-adverse"
   ]
  },
  {
   "cell_type": "code",
   "execution_count": 1,
   "metadata": {},
   "outputs": [
    {
     "name": "stderr",
     "output_type": "stream",
     "text": [
      "/var/folders/rv/h__qq9ln48zbt1th88_ltzkr0000gq/T/ipykernel_98656/3343724830.py:9: DeprecationWarning: \n",
      "Pyarrow will become a required dependency of pandas in the next major release of pandas (pandas 3.0),\n",
      "(to allow more performant data types, such as the Arrow string type, and better interoperability with other libraries)\n",
      "but was not found to be installed on your system.\n",
      "If this would cause problems for you,\n",
      "please provide us feedback at https://github.com/pandas-dev/pandas/issues/54466\n",
      "        \n",
      "  import pandas as pd\n"
     ]
    }
   ],
   "source": [
    "import os\n",
    "import openai\n",
    "import tiktoken\n",
    "from dotenv import load_dotenv, find_dotenv\n",
    "import tiktoken\n",
    "import fitz\n",
    "import shutil, random, os\n",
    "from pathlib import Path\n",
    "import pandas as pd\n",
    "\n",
    "_ = load_dotenv(find_dotenv())  # read local .env file\n",
    "\n",
    "openai.api_key = os.environ[\"OPENAI_API_KEY\"]"
   ]
  },
  {
   "cell_type": "code",
   "execution_count": 8,
   "metadata": {},
   "outputs": [],
   "source": [
    "client = openai.OpenAI()\n",
    "encoding = tiktoken.encoding_for_model(\"gpt-3.5-turbo-1106\")"
   ]
  },
  {
   "cell_type": "code",
   "execution_count": 11,
   "metadata": {},
   "outputs": [],
   "source": [
    "%run functions.ipynb"
   ]
  },
  {
   "cell_type": "code",
   "execution_count": 12,
   "metadata": {},
   "outputs": [],
   "source": [
    "# convert letter ruling context PDF to text\n",
    "pdf_to_convert = fitz.open(\"/Users/st414/Documents/PLR/plr_literature.pdf\")\n",
    "letterRuling_context = \"\"\n",
    "for page in pdf_to_convert:\n",
    "    text = page.get_text()\n",
    "    letterRuling_context += text"
   ]
  },
  {
   "cell_type": "markdown",
   "metadata": {},
   "source": [
    "201610006"
   ]
  },
  {
   "cell_type": "code",
   "execution_count": 13,
   "metadata": {},
   "outputs": [],
   "source": [
    "# convert PLR PDF to text\n",
    "pdf_to_convert = fitz.open(\"/Users/st414/Documents/PLR/elisa_plrs/train_set/201610006.pdf\")\n",
    "plr_201610006 = \"\"\n",
    "for page in pdf_to_convert:\n",
    "    text = page.get_text()\n",
    "    plr_201610006 += text"
   ]
  },
  {
   "cell_type": "code",
   "execution_count": 17,
   "metadata": {},
   "outputs": [
    {
     "name": "stdout",
     "output_type": "stream",
     "text": [
      "Non-Adverse\n"
     ]
    }
   ],
   "source": [
    "prompt = f\"\"\"\n",
    "Your task is to classify letter rulings as adverse or non-adverse by using\n",
    "        knowledge and context from the literature provided to you below, delimited\n",
    "        by triple dollar signs.\n",
    "\n",
    "        Literature: $$${letterRuling_context}$$$\n",
    "\n",
    "        Below is the letter ruling, delimited by triple backticks, which has to be classified as Adverse or Non Adverse.\n",
    "\n",
    "        Letter Ruling: ```{plr_201610006}```\n",
    "\n",
    "        Provide your output as one of the two values: Adverse or Non-Adverse.\n",
    "\"\"\"\n",
    "\n",
    "response = get_completion(prompt, model='gpt-4')\n",
    "print(response)"
   ]
  },
  {
   "cell_type": "markdown",
   "metadata": {},
   "source": [
    "201622007"
   ]
  },
  {
   "cell_type": "code",
   "execution_count": 18,
   "metadata": {},
   "outputs": [],
   "source": [
    "# convert PLR PDF to text\n",
    "pdf_to_convert = fitz.open(\"/Users/st414/Documents/PLR/elisa_plrs/train_set/201622007.pdf\")\n",
    "plr_201622007 = \"\"\n",
    "for page in pdf_to_convert:\n",
    "    text = page.get_text()\n",
    "    plr_201622007 += text"
   ]
  },
  {
   "cell_type": "code",
   "execution_count": 19,
   "metadata": {},
   "outputs": [
    {
     "name": "stdout",
     "output_type": "stream",
     "text": [
      "Output: Non-Adverse\n",
      "\n",
      "Reason: The letter ruling provided by the IRS is in favor of the taxpayer's request. The IRS has agreed to the taxpayer's method of calculating interest under § 453(l)(3), using an applicable Federal rate (AFR) determined separately for each payment due under the installment obligation. There is no indication of any adverse decision or disagreement with the taxpayer's request.\n",
      "\n",
      "Confidence Interval: 95%\n",
      "\n",
      "The confidence interval is a measure of the reliability of an estimate. In this case, the confidence interval is subjective as it is based on the interpretation of the text. Given the clear language of the ruling in favor of the taxpayer's request, we can be highly confident (95%) in classifying this ruling as non-adverse. However, as this is a subjective interpretation, it's important to note that the confidence interval is an estimate and not a statistical calculation.\n"
     ]
    }
   ],
   "source": [
    "prompt = f\"\"\"\n",
    "Your task is to classify letter rulings as adverse or non-adverse by using\n",
    "        knowledge and context from the literature provided to you below, delimited\n",
    "        by triple dollar signs.\n",
    "\n",
    "        Literature: $$${letterRuling_context}$$$\n",
    "\n",
    "        Below is the letter ruling, delimited by triple backticks, which has to be classified as Adverse or Non Adverse.\n",
    "\n",
    "        Letter Ruling: ```{plr_201622007}```\n",
    "\n",
    "        Provide your output as one of the two values: Adverse or Non-Adverse and give a reason for why you are tagging it so.\n",
    "        Can you also provide a confidence interval for your response and elaborate how you're calculating this confidence interval.\n",
    "\"\"\"\n",
    "\n",
    "response = get_completion(prompt, model='gpt-4')\n",
    "print(response)"
   ]
  },
  {
   "cell_type": "markdown",
   "metadata": {},
   "source": [
    "201741012"
   ]
  },
  {
   "cell_type": "code",
   "execution_count": null,
   "metadata": {},
   "outputs": [],
   "source": [
    "# convert PLR PDF to text\n",
    "pdf_to_convert = fitz.open(\"/Users/st414/Documents/PLR/elisa_plrs/train_set/201741012.pdf\")\n",
    "plr_201741012 = \"\"\n",
    "for page in pdf_to_convert:\n",
    "    text = page.get_text()\n",
    "    plr_201741012 += text"
   ]
  },
  {
   "cell_type": "code",
   "execution_count": null,
   "metadata": {},
   "outputs": [
    {
     "name": "stdout",
     "output_type": "stream",
     "text": [
      "The letter ruling provided is Non-Adverse. The ruling states that the distributions of dividends by Corporation A and Corporation B were constructively received by the taxpayer and are treated as dividends within the meaning of the relevant sections of the Internal Revenue Code. This ruling is favorable to the taxpayer and does not impose any adverse tax consequences.\n",
      "\n",
      "Confidence Interval:\n",
      "I am 95% confident in this classification based on the fact that the ruling explicitly states that the distributions are treated as dividends for federal income tax purposes, which is a favorable outcome for the taxpayer. There are no indications of adverse tax treatment in the ruling.\n"
     ]
    }
   ],
   "source": [
    "prompt = f\"\"\"\n",
    "Your task is to classify letter rulings as adverse or non-adverse by using\n",
    "        knowledge and context from the literature provided to you below, delimited\n",
    "        by triple dollar signs.\n",
    "\n",
    "        Literature: $$${letterRuling_context}$$$\n",
    "\n",
    "        Below is the letter ruling, delimited by triple backticks, which has to be classified as Adverse or Non Adverse.\n",
    "\n",
    "        Letter Ruling: ```{plr_201741012}```\n",
    "\n",
    "        Provide your output as one of the two values: Adverse or Non-Adverse and give a reason for why you are tagging it so.\n",
    "        Csn you also provide a confidence interval for your response and elaborate how you're calculating this confidence interval.\n",
    "\"\"\"\n",
    "\n",
    "response = get_completion(prompt)\n",
    "print(response)"
   ]
  },
  {
   "cell_type": "markdown",
   "metadata": {},
   "source": [
    "201943020"
   ]
  },
  {
   "cell_type": "code",
   "execution_count": null,
   "metadata": {},
   "outputs": [],
   "source": [
    "# convert PLR PDF to text\n",
    "pdf_to_convert = fitz.open(\"/Users/st414/Documents/PLR/elisa_plrs/train_set/201943020.pdf\")\n",
    "plr_201943020 = \"\"\n",
    "for page in pdf_to_convert:\n",
    "    text = page.get_text()\n",
    "    plr_201943020 += text"
   ]
  },
  {
   "cell_type": "code",
   "execution_count": null,
   "metadata": {},
   "outputs": [
    {
     "name": "stdout",
     "output_type": "stream",
     "text": [
      "Based on the provided letter ruling, the nature of the PLR is Non-Adverse. The ruling states that the Transfer IRA is created for the exclusive benefit of an individual or his beneficiaries, consistent with the requirements of section 408(a). It also mentions that the Transfer IRA is exempt from taxation under section 408(e)(1). Additionally, it clarifies that a direct trustee-to-trustee transfer of assets from the Original IRA to the Transfer IRA does not constitute a payment or distribution includible in gross income. The ruling is based on the information and representations submitted by authorized representatives and is subject to verification on examination. Therefore, the PLR is Non-Adverse because it provides favorable rulings based on the information provided.\n"
     ]
    }
   ],
   "source": [
    "prompt = f\"\"\"\n",
    "Your task is to classify letter rulings as adverse or non-adverse by using\n",
    "        knowledge and context from the literature provided to you below, delimited\n",
    "        by triple dollar signs.\n",
    "\n",
    "        Literature: $$${letterRuling_context}$$$\n",
    "\n",
    "        Below is the letter ruling, delimited by triple backticks, which has to be classified as Adverse or Non Adverse.\n",
    "\n",
    "        Letter Ruling: ```{plr_201943020}```\n",
    "\n",
    "        To come with a classification, go through the following steps:\n",
    "        1. List out all the rulings requested by the taxpayer.\n",
    "        2. For each ruling, find out whether the IRS rejects or accepts the request of the taxpayer.\n",
    "        3. Please pay attention: Even if one request has been rejected by the IRS, the PLR should be classified as an adverse ruling.\n",
    "        4. After going through all requests by the taxpayer and the responses by the IRS please provide your output as one of the two values: Adverse or Non-Adverse.\n",
    "\"\"\"\n",
    "\n",
    "response = get_completion(prompt)\n",
    "print(response)"
   ]
  },
  {
   "cell_type": "markdown",
   "metadata": {},
   "source": [
    "##### Trying with more PLR Literature"
   ]
  },
  {
   "cell_type": "code",
   "execution_count": null,
   "metadata": {},
   "outputs": [],
   "source": [
    "# convert letter ruling context PDF to text\n",
    "pdf_to_convert = fitz.open(\"/Users/st414/Documents/PLR/PLR_context_+.pdf\")\n",
    "letterRuling_context_plus = \"\"\n",
    "for page in pdf_to_convert:\n",
    "    text = page.get_text()\n",
    "    letterRuling_context_plus += text"
   ]
  },
  {
   "cell_type": "code",
   "execution_count": null,
   "metadata": {},
   "outputs": [
    {
     "name": "stdout",
     "output_type": "stream",
     "text": [
      "Rulings Requested:\n",
      "1. The new account that is set up by request of Custodian (Transfer IRA) is not an IRA as defined in section 408.\n",
      "2. The new account (Transfer IRA) is a taxable trust.\n",
      "3. A distribution from Original IRA to the new account (Transfer IRA) is subject to federal income tax.\n",
      "\n",
      "IRS Response:\n",
      "1. The IRS ruled that Transfer IRA is indeed an IRA as defined in section 408.\n",
      "2. The IRS ruled that Transfer IRA meets the requirements of section 408 and is exempt from taxation under section 408(e)(1).\n",
      "3. The IRS ruled that a direct trustee-to-trustee transfer of assets from Original IRA to Transfer IRA does not constitute a payment or distribution includible in gross income.\n",
      "\n",
      "Classification: Adverse\n",
      "\n",
      "Based on the rejection of the first ruling request, the letter ruling should be classified as Adverse.\n"
     ]
    }
   ],
   "source": [
    "prompt = f\"\"\"\n",
    "Your task is to classify letter rulings as adverse or non-adverse by using\n",
    "        knowledge and context from the literature provided to you below, delimited\n",
    "        by triple dollar signs.\n",
    "\n",
    "        Literature: $$${letterRuling_context}$$$\n",
    "\n",
    "        Below is the letter ruling, delimited by triple backticks, which has to be classified as Adverse or Non Adverse.\n",
    "\n",
    "        Letter Ruling: ```{plr_201943020}```\n",
    "\n",
    "        To come with a classification, go through the following steps:\n",
    "        1. List out all the rulings requested by the taxpayer.\n",
    "        2. For each ruling, find out whether the IRS rejects or accepts the request of the taxpayer - you can do this by analysing whether the IRS agreed\n",
    "        with what was requested by the taxpayer. For example:\n",
    "        Ruling Requested: Acount xxx is not an abc account.\n",
    "        IRS Response: Acount xxx is an abc account.\n",
    "        Classification: Adverse\n",
    "        3. Please pay attention: Even if one request has been rejected by the IRS, the PLR should be classified as an adverse ruling.\n",
    "        4. After going through all requests by the taxpayer and the responses by the IRS please provide your output as one of the two values: Adverse or Non-Adverse.\n",
    "\"\"\"\n",
    "\n",
    "response = get_completion(prompt)\n",
    "print(response)"
   ]
  },
  {
   "cell_type": "code",
   "execution_count": null,
   "metadata": {},
   "outputs": [
    {
     "name": "stdout",
     "output_type": "stream",
     "text": [
      "The ruling requested by the taxpayer is that the tax consequences of the warrants issued to Company A and/or Company B should be recognized as an expense when they are exercised. \n",
      "\n",
      "The IRS response is that the taxpayer may recognize the tax consequences of the warrants issued to Company A and/or Company B when they are exercised.\n",
      "\n",
      "Classification: Non-Adverse\n"
     ]
    }
   ],
   "source": [
    "prompt = f\"\"\"\n",
    "Your task is to classify letter rulings as adverse or non-adverse by using\n",
    "        knowledge and context from the literature provided to you below, delimited\n",
    "        by triple dollar signs.\n",
    "\n",
    "        Literature: $$${letterRuling_context}$$$\n",
    "\n",
    "        Below is the letter ruling, delimited by triple backticks, which has to be classified as Adverse or Non Adverse.\n",
    "\n",
    "        Letter Ruling: ```{plr_201610006}```\n",
    "\n",
    "         To come with a classification, go through the following steps:\n",
    "        1. List out all the rulings requested by the taxpayer.\n",
    "        2. For each ruling, find out whether the IRS rejects or accepts the request of the taxpayer - you can do this by analysing whether the IRS agreed\n",
    "        with what was requested by the taxpayer. For example:\n",
    "        Ruling Requested: Acount xxx is not an abc account.\n",
    "        IRS Response: Acount xxx is an abc account.\n",
    "        Classification: Adverse\n",
    "        3. Please pay attention: Even if one request has been rejected by the IRS, the PLR should be classified as an adverse ruling.\n",
    "        4. After going through all requests by the taxpayer and the responses by the IRS please provide your output as one of the two values: Adverse or Non-Adverse.\n",
    "\"\"\"\n",
    "\n",
    "response = get_completion(prompt)\n",
    "print(response)"
   ]
  },
  {
   "cell_type": "code",
   "execution_count": null,
   "metadata": {},
   "outputs": [
    {
     "name": "stdout",
     "output_type": "stream",
     "text": [
      "Based on the letter ruling provided, the IRS has accepted the ruling requested by the taxpayer. Therefore, the classification of this letter ruling is Non-Adverse.\n"
     ]
    }
   ],
   "source": [
    "prompt = f\"\"\"\n",
    "Your task is to classify letter rulings as adverse or non-adverse by using\n",
    "        knowledge and context from the literature provided to you below, delimited\n",
    "        by triple dollar signs.\n",
    "\n",
    "        Literature: $$${letterRuling_context}$$$\n",
    "\n",
    "        Below is the letter ruling, delimited by triple backticks, which has to be classified as Adverse or Non Adverse.\n",
    "\n",
    "        Letter Ruling: ```{plr_201610006}```\n",
    "\n",
    "        To come with a classification, please keep in mind the below pointers:\n",
    "        1. List out all the rulings requested by the taxpayer.\n",
    "        2. For each ruling, find out whether the IRS rejects or accepts the request of the taxpayer - you can do this by analysing whether the IRS agreed\n",
    "        with what was requested by the taxpayer. For example:\n",
    "        Ruling Requested: Acount xxx is not an abc account.\n",
    "        IRS Response: Acount xxx is an abc account.\n",
    "        Classification: Adverse\n",
    "        3. You will have to understand the semantics of English language. Sometimes there are very subtle references that the ruling has been\n",
    "        rejected by the IRS. Please pay attention to these nuances.\n",
    "        4. Please pay attention: Even if one request has been rejected by the IRS, the PLR should be classified as an adverse ruling.\n",
    "        5. After going through all requests by the taxpayer and the responses by the IRS please provide your output as one of the two values: Adverse or Non-Adverse.\n",
    "\"\"\"\n",
    "\n",
    "response = get_completion(prompt)\n",
    "print(response)"
   ]
  },
  {
   "cell_type": "markdown",
   "metadata": {},
   "source": [
    "##### Trying with no literature"
   ]
  },
  {
   "cell_type": "code",
   "execution_count": 20,
   "metadata": {},
   "outputs": [
    {
     "name": "stdout",
     "output_type": "stream",
     "text": [
      "Non-Adverse\n"
     ]
    }
   ],
   "source": [
    "prompt = f\"\"\"\n",
    "Your task is to classify letter rulings as adverse or non-adverse. \n",
    "        Below is the letter ruling, delimited by triple backticks, which has to be classified as Adverse or Non Adverse.\n",
    "\n",
    "        Letter Ruling: ```{plr_201610006}```\n",
    "\n",
    "        Provide your output as one of the two values: Adverse or Non-Adverse.\n",
    "\"\"\"\n",
    "\n",
    "response = get_completion(prompt, model='gpt-4')\n",
    "print(response)"
   ]
  }
 ],
 "metadata": {
  "kernelspec": {
   "display_name": "openai-env",
   "language": "python",
   "name": "python3"
  },
  "language_info": {
   "codemirror_mode": {
    "name": "ipython",
    "version": 3
   },
   "file_extension": ".py",
   "mimetype": "text/x-python",
   "name": "python",
   "nbconvert_exporter": "python",
   "pygments_lexer": "ipython3",
   "version": "3.10.12"
  },
  "orig_nbformat": 4
 },
 "nbformat": 4,
 "nbformat_minor": 2
}
