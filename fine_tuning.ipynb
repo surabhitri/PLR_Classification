{
 "cells": [
  {
   "cell_type": "markdown",
   "metadata": {},
   "source": [
    "### Fine Tuning GPT 3.5 Turbo with Tagged PLRs"
   ]
  },
  {
   "cell_type": "code",
   "execution_count": 1,
   "metadata": {},
   "outputs": [],
   "source": [
    "import os\n",
    "import openai\n",
    "import tiktoken\n",
    "from dotenv import load_dotenv, find_dotenv\n",
    "import tiktoken\n",
    "import fitz\n",
    "import shutil, random, os\n",
    "from pathlib import Path\n",
    "import pandas as pd\n",
    "import openpyxl\n",
    "import json\n",
    "\n",
    "_ = load_dotenv(find_dotenv())  # read local .env file\n",
    "\n",
    "openai.api_key = os.environ[\"OPENAI_API_KEY\"]"
   ]
  },
  {
   "cell_type": "code",
   "execution_count": 2,
   "metadata": {},
   "outputs": [],
   "source": [
    "%run functions.ipynb"
   ]
  },
  {
   "cell_type": "code",
   "execution_count": 3,
   "metadata": {},
   "outputs": [],
   "source": [
    "# client = openai.OpenAI()\n",
    "# encoding = tiktoken.encoding_for_model(\"gpt-3.5-turbo-1106\")"
   ]
  },
  {
   "cell_type": "markdown",
   "metadata": {},
   "source": [
    "#### Split into training and test set"
   ]
  },
  {
   "cell_type": "code",
   "execution_count": 4,
   "metadata": {},
   "outputs": [
    {
     "name": "stdout",
     "output_type": "stream",
     "text": [
      "Splitting complete. Check the 'train' and 'test' folders for your files.\n"
     ]
    }
   ],
   "source": [
    "# Set the path to your main folder containing PDF files\n",
    "main_folder = \"/Users/st414/Documents/PLR/elisa_plrs/train_set\"\n",
    "\n",
    "# Set the path to your training and test set folders\n",
    "train_folder = os.path.join(main_folder, 'finetune_train')\n",
    "test_folder = os.path.join(main_folder, 'finetune_test')\n",
    "\n",
    "# Set the percentage of files to be moved to the test set\n",
    "test_split_percentage = 85  # Adjust as needed\n",
    "\n",
    "# Get the list of PDF files in the main folder\n",
    "pdf_files = [file for file in os.listdir(main_folder) if file.endswith('.pdf')]\n",
    "\n",
    "# Calculate the number of files for the test set\n",
    "num_files_test = int(len(pdf_files) * (test_split_percentage / 100.0))\n",
    "\n",
    "# Randomly select files for the test set\n",
    "test_files = random.sample(pdf_files, num_files_test)\n",
    "\n",
    "# Copy files to the respective folders\n",
    "for file in pdf_files:\n",
    "    source_path = os.path.join(main_folder, file)\n",
    "    if file in test_files:\n",
    "        destination_path = os.path.join(test_folder, file)\n",
    "    else:\n",
    "        destination_path = os.path.join(train_folder, file)\n",
    "    shutil.copy(source_path, destination_path)\n",
    "\n",
    "print(\"Splitting complete. Check the 'train' and 'test' folders for your files.\")\n"
   ]
  },
  {
   "cell_type": "markdown",
   "metadata": {},
   "source": [
    "#### Create .jsonl format for training input to gpt"
   ]
  },
  {
   "cell_type": "code",
   "execution_count": 8,
   "metadata": {},
   "outputs": [
    {
     "data": {
      "text/html": [
       "<div>\n",
       "<style scoped>\n",
       "    .dataframe tbody tr th:only-of-type {\n",
       "        vertical-align: middle;\n",
       "    }\n",
       "\n",
       "    .dataframe tbody tr th {\n",
       "        vertical-align: top;\n",
       "    }\n",
       "\n",
       "    .dataframe thead th {\n",
       "        text-align: right;\n",
       "    }\n",
       "</style>\n",
       "<table border=\"1\" class=\"dataframe\">\n",
       "  <thead>\n",
       "    <tr style=\"text-align: right;\">\n",
       "      <th></th>\n",
       "      <th>plr_number</th>\n",
       "      <th>text</th>\n",
       "    </tr>\n",
       "  </thead>\n",
       "  <tbody>\n",
       "    <tr>\n",
       "      <th>0</th>\n",
       "      <td>201318003.pdf</td>\n",
       "      <td>Internal Revenue Service\\nDepartment of the Tr...</td>\n",
       "    </tr>\n",
       "    <tr>\n",
       "      <th>1</th>\n",
       "      <td>201412013.pdf</td>\n",
       "      <td>Internal Revenue Service\\nDepartment of the Tr...</td>\n",
       "    </tr>\n",
       "    <tr>\n",
       "      <th>2</th>\n",
       "      <td>200537019.pdf</td>\n",
       "      <td>\\nInternal Revenue Service \\nDepartment of th...</td>\n",
       "    </tr>\n",
       "    <tr>\n",
       "      <th>3</th>\n",
       "      <td>200206048.pdf</td>\n",
       "      <td>Internal Revenue Service\\nNumber:   200206048\\...</td>\n",
       "    </tr>\n",
       "    <tr>\n",
       "      <th>4</th>\n",
       "      <td>200623003.pdf</td>\n",
       "      <td>\\n \\n \\nInternal Revenue Service \\nDepartment...</td>\n",
       "    </tr>\n",
       "  </tbody>\n",
       "</table>\n",
       "</div>"
      ],
      "text/plain": [
       "      plr_number                                               text\n",
       "0  201318003.pdf  Internal Revenue Service\\nDepartment of the Tr...\n",
       "1  201412013.pdf  Internal Revenue Service\\nDepartment of the Tr...\n",
       "2  200537019.pdf   \\nInternal Revenue Service \\nDepartment of th...\n",
       "3  200206048.pdf  Internal Revenue Service\\nNumber:   200206048\\...\n",
       "4  200623003.pdf   \\n \\n \\nInternal Revenue Service \\nDepartment..."
      ]
     },
     "execution_count": 8,
     "metadata": {},
     "output_type": "execute_result"
    }
   ],
   "source": [
    "pd_plr_text = text_to_df() # using this from the functions .ipynb\n",
    "pd_plr_text.head()"
   ]
  },
  {
   "cell_type": "code",
   "execution_count": 21,
   "metadata": {},
   "outputs": [
    {
     "data": {
      "text/html": [
       "<div>\n",
       "<style scoped>\n",
       "    .dataframe tbody tr th:only-of-type {\n",
       "        vertical-align: middle;\n",
       "    }\n",
       "\n",
       "    .dataframe tbody tr th {\n",
       "        vertical-align: top;\n",
       "    }\n",
       "\n",
       "    .dataframe thead th {\n",
       "        text-align: right;\n",
       "    }\n",
       "</style>\n",
       "<table border=\"1\" class=\"dataframe\">\n",
       "  <thead>\n",
       "    <tr style=\"text-align: right;\">\n",
       "      <th></th>\n",
       "      <th>plr_number</th>\n",
       "      <th>text</th>\n",
       "    </tr>\n",
       "  </thead>\n",
       "  <tbody>\n",
       "    <tr>\n",
       "      <th>0</th>\n",
       "      <td>201318003</td>\n",
       "      <td>Internal Revenue Service\\nDepartment of the Tr...</td>\n",
       "    </tr>\n",
       "    <tr>\n",
       "      <th>1</th>\n",
       "      <td>201412013</td>\n",
       "      <td>Internal Revenue Service\\nDepartment of the Tr...</td>\n",
       "    </tr>\n",
       "    <tr>\n",
       "      <th>2</th>\n",
       "      <td>200537019</td>\n",
       "      <td>\\nInternal Revenue Service \\nDepartment of th...</td>\n",
       "    </tr>\n",
       "    <tr>\n",
       "      <th>3</th>\n",
       "      <td>200206048</td>\n",
       "      <td>Internal Revenue Service\\nNumber:   200206048\\...</td>\n",
       "    </tr>\n",
       "    <tr>\n",
       "      <th>4</th>\n",
       "      <td>200623003</td>\n",
       "      <td>\\n \\n \\nInternal Revenue Service \\nDepartment...</td>\n",
       "    </tr>\n",
       "  </tbody>\n",
       "</table>\n",
       "</div>"
      ],
      "text/plain": [
       "  plr_number                                               text\n",
       "0  201318003  Internal Revenue Service\\nDepartment of the Tr...\n",
       "1  201412013  Internal Revenue Service\\nDepartment of the Tr...\n",
       "2  200537019   \\nInternal Revenue Service \\nDepartment of th...\n",
       "3  200206048  Internal Revenue Service\\nNumber:   200206048\\...\n",
       "4  200623003   \\n \\n \\nInternal Revenue Service \\nDepartment..."
      ]
     },
     "execution_count": 21,
     "metadata": {},
     "output_type": "execute_result"
    }
   ],
   "source": [
    "pd_plr_text['plr_number'] = pd_plr_text['plr_number'].str.split('.').str[0]\n",
    "pd_plr_text.head()"
   ]
  },
  {
   "cell_type": "code",
   "execution_count": 22,
   "metadata": {},
   "outputs": [],
   "source": [
    "# join our training set with the reference set to tag the training set PLRs\n",
    "reference_set = pd.read_csv('/Users/st414/Documents/PLR/elisa_plrs/reference_set.csv')\n",
    "\n",
    "# converting plr_number from object to int64 for joining\n",
    "pd_plr_text = pd_plr_text.astype({'plr_number': 'int64'})\n",
    "\n"
   ]
  },
  {
   "cell_type": "code",
   "execution_count": 39,
   "metadata": {},
   "outputs": [
    {
     "data": {
      "text/html": [
       "<div>\n",
       "<style scoped>\n",
       "    .dataframe tbody tr th:only-of-type {\n",
       "        vertical-align: middle;\n",
       "    }\n",
       "\n",
       "    .dataframe tbody tr th {\n",
       "        vertical-align: top;\n",
       "    }\n",
       "\n",
       "    .dataframe thead th {\n",
       "        text-align: right;\n",
       "    }\n",
       "</style>\n",
       "<table border=\"1\" class=\"dataframe\">\n",
       "  <thead>\n",
       "    <tr style=\"text-align: right;\">\n",
       "      <th></th>\n",
       "      <th>plr_number</th>\n",
       "      <th>text</th>\n",
       "      <th>tag</th>\n",
       "    </tr>\n",
       "  </thead>\n",
       "  <tbody>\n",
       "    <tr>\n",
       "      <th>0</th>\n",
       "      <td>201318003</td>\n",
       "      <td>Internal Revenue Service\\nDepartment of the Tr...</td>\n",
       "      <td>Non-Adverse</td>\n",
       "    </tr>\n",
       "    <tr>\n",
       "      <th>1</th>\n",
       "      <td>201412013</td>\n",
       "      <td>Internal Revenue Service\\nDepartment of the Tr...</td>\n",
       "      <td>Non-Adverse</td>\n",
       "    </tr>\n",
       "    <tr>\n",
       "      <th>2</th>\n",
       "      <td>200537019</td>\n",
       "      <td>\\nInternal Revenue Service \\nDepartment of th...</td>\n",
       "      <td>Adverse</td>\n",
       "    </tr>\n",
       "    <tr>\n",
       "      <th>3</th>\n",
       "      <td>200623003</td>\n",
       "      <td>\\n \\n \\nInternal Revenue Service \\nDepartment...</td>\n",
       "      <td>Non-Adverse</td>\n",
       "    </tr>\n",
       "    <tr>\n",
       "      <th>4</th>\n",
       "      <td>199906015</td>\n",
       "      <td>INTERNAL REVENUE SERVICE\\nIndex No.:  61.00-00...</td>\n",
       "      <td>Adverse</td>\n",
       "    </tr>\n",
       "  </tbody>\n",
       "</table>\n",
       "</div>"
      ],
      "text/plain": [
       "   plr_number                                               text          tag\n",
       "0   201318003  Internal Revenue Service\\nDepartment of the Tr...  Non-Adverse\n",
       "1   201412013  Internal Revenue Service\\nDepartment of the Tr...  Non-Adverse\n",
       "2   200537019   \\nInternal Revenue Service \\nDepartment of th...      Adverse\n",
       "3   200623003   \\n \\n \\nInternal Revenue Service \\nDepartment...  Non-Adverse\n",
       "4   199906015  INTERNAL REVENUE SERVICE\\nIndex No.:  61.00-00...      Adverse"
      ]
     },
     "execution_count": 39,
     "metadata": {},
     "output_type": "execute_result"
    }
   ],
   "source": [
    "plr_text_tag = pd.merge(pd_plr_text, reference_set[['plr_number','tag']], on = 'plr_number', how = 'inner')\n",
    "plr_text_tag.head()"
   ]
  },
  {
   "cell_type": "code",
   "execution_count": 43,
   "metadata": {},
   "outputs": [],
   "source": [
    "# define the system prompt\n",
    "system_prompt = 'You are a legal tax expert that, given a private letter ruling, classifies it as adverse or non-adverse.'"
   ]
  },
  {
   "cell_type": "code",
   "execution_count": 80,
   "metadata": {},
   "outputs": [],
   "source": [
    "all_conversations = []\n",
    "\n",
    "for idx, row in plr_text_tag.iterrows():\n",
    "    all_conversations.append({'messages': [{'role': 'system', 'content': system_prompt},\n",
    "                                           {'role': 'user', 'content': row['text']},\n",
    "                                           {'role': 'assistant', 'content': row['tag']}]})\n"
   ]
  },
  {
   "cell_type": "code",
   "execution_count": 45,
   "metadata": {},
   "outputs": [
    {
     "data": {
      "text/plain": [
       "{'messages': [{'role': 'system',\n",
       "   'content': 'You are a legal tax expert that, given a private letter ruling, classifies it as adverse or non-adverse.'},\n",
       "  {'role': 'user',\n",
       "   'content': 'Internal Revenue Service\\nDepartment of the Treasury\\nWashington, DC 20224\\nNumber: 201318003\\nRelease Date: 5/3/2013\\nIndex Number:  1250.04-01\\n------------------------------------------------------------\\n------------------------\\n---------------------------------\\n------------------------------\\n----------------------------------------------------\\nThird Party Communication: None\\nDate of Communication: Not Applicable\\nPerson To Contact:\\n------------------------, ID No. ------------------\\n----------------------------------------------------\\nTelephone Number:\\n----------------------\\nRefer Reply To:\\nCC:ITA:B07\\nPLR-132858-12\\nDate:\\nJanuary 22, 2013\\nRe: Request for Private Letter Ruling under Sections 170, 291, and 1250\\nLEGEND\\nTaxpayer\\n=\\n----------------------------------------------\\n----------------------------\\nState1\\n=\\n---------------------\\nCity1\\n=\\n----------------------\\nA\\n=\\n---------------------------------\\n----------------------------\\nB\\n=\\n--------------------\\nDear -------------------:\\nThis letter responds to a letter dated July 27, 2012, and supplemental \\ncorrespondence, submitted by Taxpayer requesting a letter ruling that, if certain section \\n1250 property is contributed to one or more tax-exempt organizations, the charitable \\ndeduction attributable to the value of that contribution will not be reduced by twenty \\npercent of the accumulated depreciation of this section 1250 property under section \\n291(a)(1) of the Internal Revenue Code.\\nFACTS\\nTaxpayer represents that the facts are as follows:\\nTaxpayer is a State1 corporation with a principal place of business in City1, \\nState1.  Taxpayer is a wholly-owned subsidiary of A and joins in the consolidated \\nFederal income tax return filed for the affiliated group headed by A.  A files its \\nconsolidated Federal income tax return on a calendar year basis.\\nPLR-132858-12\\n2\\nTaxpayer owns certain improved real property located at Taxpayer’s B plant in \\nCity1, State1 (the “B property”).  The B property contains certain depreciable real \\nproperty that is section 1250 property.  Most of this section 1250 property has been fully \\ndepreciated.  Hereinafter, the fully depreciated B property that is section 1250 property \\nwill be referred to as “the Property.”\\nTaxpayer intends to contribute some or all of the Property to one or more \\norganizations that are exempt from Federal income tax under section 501(c)(3) as a \\ncharitable contribution under section 170.  Moreover, Taxpayer intends to claim a \\ncharitable deduction under section 170 with respect to its contribution of the Property to \\none or more section 501(c)(3) tax-exempt organizations.\\nTaxpayer represents that these section 501(c)(3) tax-exempt organizations will \\nhave the same basis in the Property as Taxpayer will have at the time of the transfer \\npursuant to section 1015(a).\\nRULING REQUESTED\\nTaxpayer requests the following ruling:\\nIf the Property is contributed to one or more section 501(c)(3) tax-exempt \\norganizations, the charitable deduction attributable to the value of the \\ncontribution will not be reduced by twenty percent of the accumulated \\ndepreciation of the Property pursuant to section 291(a)(1).\\nLAW AND ANALYSIS\\nSection 170 generally allows a deduction, subject to certain limitations, for \\ncharitable contributions made during the taxable year to or for the use of organizations \\ndescribed in section 170(c), including section 501(c)(3) organizations.\\nSection 170A-1(c)(1) of the Income Tax Regulations provides that if a charitable \\ncontribution is made in property other than money, the amount of the contribution is the \\nfair market value of the property at the time of the contribution, reduced as provided in \\nsection 170(e)(1) and section 1.170A-4(a), or section 170(e)(3) and section 1.170A-\\n4A(c).\\nSection 170(e)(1) provides that the amount of any charitable contribution of \\nproperty otherwise taken into account under section 170 shall be reduced by, among \\nother amounts, the amount of gain that would not have been long-term capital gain \\n(determined without regard to section 1221(b)(3)) if the property contributed had been\\nsold by the taxpayer at its fair market value (determined at the time of such \\ncontribution).\\nPLR-132858-12\\n3\\nSection 1.170A-4(a)(1) provides that in the case of a contribution by an individual \\nor by a corporation of ordinary income property, as defined in section 1.170A-4(b)(1), \\nthe amount of the charitable contribution that would be taken into account under section \\n170(a) without regard to section 170(e) shall be reduced before applying the percentage \\nlimitations under section 170(b) by the amount of gain that would have been recognized \\nas gain that is not long-term capital gain if the property had been sold by the donor at its \\nfair market value at the time of its contribution to the charitable organization.\\nSection 1.170A-4(b)(1) defines the term “ordinary income property” as meaning \\nproperty any portion of the gain on which would not have been long-term capital gain if \\nthe property had been sold by the donor at its fair market value at the time of its \\ncontribution to the charitable organization.\\nSection 291(a)(1) provides that in a case where a corporation disposes of section \\n1250 property, an amount equal to twenty percent of the excess, if any, of (A) the \\namount that would be treated as ordinary income if such property was section 1245 \\nproperty, over (B) the amount treated as ordinary income under section 1250 \\n(determined without regard to section 291(a)(1)), shall be treated as gain which is \\nordinary income under section 1250 and shall be recognized notwithstanding any other \\nprovision of Subtitle A of the Code.  Section 291(a)(1) further provides that under \\nregulations prescribed by the Secretary, the provisions of section 291(a)(1) will not \\napply to the disposition of any property to the extent that section 1250(a) does not apply \\nto such disposition by reason of section 1250(d).\\nIf section 1245 property is disposed of, section 1245(a)(1) generally provides that \\nthe amount by which the lower of (A) the recomputed basis of the property, or (B) the \\namount realized (in the case of a sale, exchange, or involuntary conversion) or the fair \\nmarket value of such property (in the case of any other disposition), exceeds the \\nadjusted basis of such property is treated as ordinary income.  Such gain is recognized \\nnotwithstanding any other provision of Subtitle A of the Code.\\nSection 1245(a)(2) defines the term “recomputed basis” with respect to any \\nproperty as meaning, generally, its adjusted basis recomputed by adding thereto all \\nadjustments reflected in such adjusted basis on account of deductions (whether in \\nrespect of the same or other property) allowed or allowable to the taxpayer or to any \\nother person for depreciation or amortization.   \\nIf section 1250 property is disposed of after December 31, 1975, section \\n1250(a)(1)(A) generally provides that 100 percent of the lower of (i) that portion of the \\nadditional depreciation attributable to periods after December 31, 1975, in respect of \\nsuch property, or (ii) the excess of the amount realized (in the case of a sale, exchange, \\nor involuntary conversion), or the fair market value of such property (in the case of any \\nother disposition), over the adjusted basis of such property, is treated as gain that is \\nPLR-132858-12\\n4\\nordinary income.  Such gain is recognized notwithstanding any other provision of \\nSubtitle A of the Code.\\nSection 1250(b)(1) defines the term “additional depreciation” as meaning, in the \\ncase of any property, the depreciation adjustments in respect of such property; except \\nthat, in the case of property held more than one year, it means such adjustments only to \\nthe extent that they exceed the amount of the depreciation adjustments that would have \\nresulted if such adjustments had been determined for each taxable year under the \\nstraight-line method of depreciation.\\nSection 1250(d)(1) provides that section 1250(a) shall not apply to a disposition \\nby gift.\\nSection 1.1250-3(a)(1) provides that, for purposes of section 1250(d)(1), the term \\n“gift” shall have the same meaning as in section 1.1245-4(a).\\nSection 1.1245-4(a) provides that the term “gift” means, generally, a transfer of \\nproperty which, in the hands of the transferee, has a basis determined under the \\nprovisions of section 1015(a) or (d) (relating to basis of property acquired by gifts).\\nIf section 1250 property is disposed of by gift (as defined in sections 1.1250-\\n3(a)(1) and 1.1245-4(a)), section 1250(d)(1) provides that section 1250(a) does not \\napply to such disposition.  Consequently, section 291(a)(1) would not apply to a gift (as \\ndefined in sections 1.1250-3(a)(1) and 1.1245-4(a)) of section 1250 property.  \\nIn this case, Taxpayer represents that it intends to contribute the Property to one \\nor more organizations that are section 501(c)(3) tax-exempt organizations, that this \\nintended contribution will be a valid charitable contribution that meets the requirements \\nof section 170, and that these section 501(c)(3) tax-exempt organizations will have a \\nbasis in the Property equal to Taxpayer’s basis in the Property at the time of transfer \\npursuant to section 1015(a).  These are material representations.  Because the basis of \\nthe Property in the hands of the section 501(c)(3) tax-exempt organizations will be the \\nsame as Taxpayer’s basis in the Property at the time of the transfer pursuant to section \\n1015(a), the contribution of the Property by Taxpayer to the section 501(c)(3) \\norganizations is a gift for purposes of sections 1250(d)(1) and 1.1250-3(a)(1).  \\nAccordingly, the provisions of section 291(a)(1) will not apply to Taxpayer’s disposition \\nof the Property to the section 501(c)(3) tax-exempt organizations.\\nCONCLUSION\\nBased solely on Taxpayer’s representations and the relevant law and analysis \\nset forth above, we conclude that if the Property is contributed to one or more section \\n501(c)(3) tax-exempt organizations, the charitable deduction attributable to the value of \\nPLR-132858-12\\n5\\nthe contribution will not be reduced by twenty percent of the accumulated depreciation \\nof the Property pursuant to section 291(a)(1).\\nExcept as specifically set forth above, no opinion is expressed or implied \\nconcerning the tax consequences of the facts described above under any other \\nprovisions of the Code.  Specifically, this letter ruling is based upon Taxpayer’s \\ndescription of the proposed contribution of property to certain section 501(c)(3) \\norganizations.  This letter ruling does not address whether the proposed contribution is \\na valid charitable contribution that meets the requirements of section 170.  Further, the \\namount of the deduction for the proposed contribution is outside the scope of this letter \\nruling, and no approval of the amount should be inferred from this letter ruling.  \\nMoreover, no opinion is expressed or implied on (i) whether any of the property located \\nat B is section 1250 property, and (ii) the propriety of Taxpayer’s methods of \\ndepreciating the property located at B.\\nThis letter ruling is directed only to the taxpayer requesting it.  Section 6110(k)(3) \\nprovides that it may not be used or cited as precedent.\\nIn accordance with the power of attorney, we are sending a copy of this letter to \\nTaxpayer’s authorized representatives.  We are also sending a copy of this letter to the \\nappropriate operating division director.\\nSincerely,\\nKathleen Reed\\nKathleen Reed\\nChief, Branch 7\\nOffice of Associate Chief Counsel\\n(Income Tax and Accounting)\\nEnclosures (2):\\ncopy of this letter\\ncopy for section 6110 purposes \\n'},\n",
       "  {'role': 'assistant', 'content': 'Non-Adverse'}]}"
      ]
     },
     "execution_count": 45,
     "metadata": {},
     "output_type": "execute_result"
    }
   ],
   "source": [
    "# get the first training data point and check format\n",
    "all_conversations[0]"
   ]
  },
  {
   "cell_type": "code",
   "execution_count": 71,
   "metadata": {},
   "outputs": [
    {
     "data": {
      "text/plain": [
       "167"
      ]
     },
     "execution_count": 71,
     "metadata": {},
     "output_type": "execute_result"
    }
   ],
   "source": [
    "len(all_conversations)"
   ]
  },
  {
   "cell_type": "code",
   "execution_count": 47,
   "metadata": {},
   "outputs": [],
   "source": [
    "with open('instances.jsonl', 'w') as f:\n",
    "    for conversation in all_conversations:\n",
    "        json.dump(conversation, f)\n",
    "        f.write('\\n')"
   ]
  },
  {
   "cell_type": "markdown",
   "metadata": {},
   "source": [
    "#### Fine tune the model with training data (.jsonl file)"
   ]
  },
  {
   "cell_type": "markdown",
   "metadata": {},
   "source": [
    "Train on all 167 data points"
   ]
  },
  {
   "cell_type": "code",
   "execution_count": 48,
   "metadata": {},
   "outputs": [],
   "source": [
    "# upload the .jsonl file to open AI\n",
    "client = openai.OpenAI()"
   ]
  },
  {
   "cell_type": "code",
   "execution_count": 49,
   "metadata": {},
   "outputs": [],
   "source": [
    "with open('instances.jsonl', 'rb') as f:\n",
    "    response = client.files.create(file = f, purpose = 'fine-tune')"
   ]
  },
  {
   "cell_type": "code",
   "execution_count": 50,
   "metadata": {},
   "outputs": [
    {
     "data": {
      "text/plain": [
       "FileObject(id='file-WRdrJJ6xGdIM7O5GPPkO0mBF', bytes=2796079, created_at=1714588808, filename='instances.jsonl', object='file', purpose='fine-tune', status='processed', status_details=None)"
      ]
     },
     "execution_count": 50,
     "metadata": {},
     "output_type": "execute_result"
    }
   ],
   "source": [
    "response"
   ]
  },
  {
   "cell_type": "code",
   "execution_count": 52,
   "metadata": {},
   "outputs": [],
   "source": [
    "file_id = 'file-WRdrJJ6xGdIM7O5GPPkO0mBF'"
   ]
  },
  {
   "cell_type": "code",
   "execution_count": 110,
   "metadata": {},
   "outputs": [],
   "source": [
    "response = client.fine_tuning.jobs.create(\n",
    "    training_file = file_id,\n",
    "    model = 'gpt-3.5-turbo-1106'\n",
    ")"
   ]
  },
  {
   "cell_type": "code",
   "execution_count": 54,
   "metadata": {},
   "outputs": [
    {
     "data": {
      "text/plain": [
       "FineTuningJob(id='ftjob-uzs01qnxx167WQUaPmNKWANH', created_at=1714589355, error=Error(code=None, message=None, param=None), fine_tuned_model=None, finished_at=None, hyperparameters=Hyperparameters(n_epochs='auto', batch_size='auto', learning_rate_multiplier='auto'), model='gpt-3.5-turbo-0125', object='fine_tuning.job', organization_id='org-iSAPcQOGLvWwrnZj238M19jr', result_files=[], status='validating_files', trained_tokens=None, training_file='file-WRdrJJ6xGdIM7O5GPPkO0mBF', validation_file=None, user_provided_suffix=None, seed=534799480, estimated_finish=None, integrations=[])"
      ]
     },
     "execution_count": 54,
     "metadata": {},
     "output_type": "execute_result"
    }
   ],
   "source": [
    "response"
   ]
  },
  {
   "cell_type": "code",
   "execution_count": 63,
   "metadata": {},
   "outputs": [
    {
     "data": {
      "text/plain": [
       "FineTuningJob(id='ftjob-uzs01qnxx167WQUaPmNKWANH', created_at=1714589355, error=Error(code=None, message=None, param=None), fine_tuned_model='ft:gpt-3.5-turbo-0125:personal::9K9dz3a5', finished_at=1714590657, hyperparameters=Hyperparameters(n_epochs=3, batch_size=1, learning_rate_multiplier=2), model='gpt-3.5-turbo-0125', object='fine_tuning.job', organization_id='org-iSAPcQOGLvWwrnZj238M19jr', result_files=['file-mCq3pMfTPRNNFWE96HgdhSK5'], status='succeeded', trained_tokens=1725354, training_file='file-WRdrJJ6xGdIM7O5GPPkO0mBF', validation_file=None, user_provided_suffix=None, seed=534799480, estimated_finish=None, integrations=[])"
      ]
     },
     "execution_count": 63,
     "metadata": {},
     "output_type": "execute_result"
    }
   ],
   "source": [
    "job_id = 'ftjob-uzs01qnxx167WQUaPmNKWANH'\n",
    "client.fine_tuning.jobs.retrieve(job_id)"
   ]
  },
  {
   "cell_type": "code",
   "execution_count": 64,
   "metadata": {},
   "outputs": [],
   "source": [
    "model_id = 'ft:gpt-3.5-turbo-0125:personal::9K9dz3a5'"
   ]
  },
  {
   "cell_type": "code",
   "execution_count": 65,
   "metadata": {},
   "outputs": [],
   "source": [
    "# try out the fine tuned model\n",
    "client = openai.OpenAI()\n",
    "\n",
    "\n",
    "def get_completion(prompt, model=model_id):\n",
    "    messages = [{\"role\": \"user\", \"content\": prompt}]\n",
    "    response = client.chat.completions.create(\n",
    "        model=model, messages=messages, temperature=0\n",
    "    )\n",
    "    return response.choices[0].message.content"
   ]
  },
  {
   "cell_type": "markdown",
   "metadata": {},
   "source": [
    "PLR Number: 200224023"
   ]
  },
  {
   "cell_type": "code",
   "execution_count": 67,
   "metadata": {},
   "outputs": [],
   "source": [
    "# convert PLR PDF to text\n",
    "pdf_to_convert = fitz.open(\"/Users/st414/Documents/PLR/elisa_plrs/train_set/200224023.pdf\")\n",
    "plr_200224023 = \"\"\n",
    "for page in pdf_to_convert:\n",
    "    text = page.get_text()\n",
    "    plr_200224023 += text"
   ]
  },
  {
   "cell_type": "code",
   "execution_count": 69,
   "metadata": {},
   "outputs": [
    {
     "name": "stdout",
     "output_type": "stream",
     "text": [
      "cc:  Taxpayer\n",
      "     Second Authorized Representative\n"
     ]
    }
   ],
   "source": [
    "prompt = f\"\"\"{plr_200224023}\n",
    "\"\"\"\n",
    "\n",
    "response = get_completion(prompt)\n",
    "print(response)"
   ]
  },
  {
   "cell_type": "markdown",
   "metadata": {},
   "source": [
    "The output is very off. We were expecting the output to be either adverse or non-adverse."
   ]
  },
  {
   "cell_type": "markdown",
   "metadata": {},
   "source": [
    "Retrain on a smaller subset of the training dataset with a new user prompt"
   ]
  },
  {
   "cell_type": "code",
   "execution_count": 77,
   "metadata": {},
   "outputs": [],
   "source": [
    "all_conversations_2 = []\n",
    "\n",
    "for idx, row in plr_text_tag.iterrows():\n",
    "    all_conversations_2.append({'messages': [{'role': 'system', 'content': system_prompt},\n",
    "                                           {'role': 'user', 'content': f''' \n",
    "                                            Here is the letter ruling, delimited by triple backticks, which has to be classified as Adverse or Non Adverse.\n",
    "\n",
    "                                            Letter Ruling: ```{row['text']}```\n",
    "\n",
    "                                            Provide your output as one of the two values: Adverse or Non-Adverse.'''},\n",
    "                                           {'role': 'assistant', 'content': row['tag']}]})"
   ]
  },
  {
   "cell_type": "code",
   "execution_count": 78,
   "metadata": {},
   "outputs": [
    {
     "data": {
      "text/plain": [
       "{'messages': [{'role': 'system',\n",
       "   'content': 'You are a legal tax expert that, given a private letter ruling, classifies it as adverse or non-adverse.'},\n",
       "  {'role': 'user',\n",
       "   'content': ' Here is the letter ruling, delimited by triple backticks, which has to be classified as Adverse or Non Adverse.\\n\\n        Letter Ruling: ```Internal Revenue Service\\nDepartment of the Treasury\\nWashington, DC 20224\\nNumber: 201318003\\nRelease Date: 5/3/2013\\nIndex Number:  1250.04-01\\n------------------------------------------------------------\\n------------------------\\n---------------------------------\\n------------------------------\\n----------------------------------------------------\\nThird Party Communication: None\\nDate of Communication: Not Applicable\\nPerson To Contact:\\n------------------------, ID No. ------------------\\n----------------------------------------------------\\nTelephone Number:\\n----------------------\\nRefer Reply To:\\nCC:ITA:B07\\nPLR-132858-12\\nDate:\\nJanuary 22, 2013\\nRe: Request for Private Letter Ruling under Sections 170, 291, and 1250\\nLEGEND\\nTaxpayer\\n=\\n----------------------------------------------\\n----------------------------\\nState1\\n=\\n---------------------\\nCity1\\n=\\n----------------------\\nA\\n=\\n---------------------------------\\n----------------------------\\nB\\n=\\n--------------------\\nDear -------------------:\\nThis letter responds to a letter dated July 27, 2012, and supplemental \\ncorrespondence, submitted by Taxpayer requesting a letter ruling that, if certain section \\n1250 property is contributed to one or more tax-exempt organizations, the charitable \\ndeduction attributable to the value of that contribution will not be reduced by twenty \\npercent of the accumulated depreciation of this section 1250 property under section \\n291(a)(1) of the Internal Revenue Code.\\nFACTS\\nTaxpayer represents that the facts are as follows:\\nTaxpayer is a State1 corporation with a principal place of business in City1, \\nState1.  Taxpayer is a wholly-owned subsidiary of A and joins in the consolidated \\nFederal income tax return filed for the affiliated group headed by A.  A files its \\nconsolidated Federal income tax return on a calendar year basis.\\nPLR-132858-12\\n2\\nTaxpayer owns certain improved real property located at Taxpayer’s B plant in \\nCity1, State1 (the “B property”).  The B property contains certain depreciable real \\nproperty that is section 1250 property.  Most of this section 1250 property has been fully \\ndepreciated.  Hereinafter, the fully depreciated B property that is section 1250 property \\nwill be referred to as “the Property.”\\nTaxpayer intends to contribute some or all of the Property to one or more \\norganizations that are exempt from Federal income tax under section 501(c)(3) as a \\ncharitable contribution under section 170.  Moreover, Taxpayer intends to claim a \\ncharitable deduction under section 170 with respect to its contribution of the Property to \\none or more section 501(c)(3) tax-exempt organizations.\\nTaxpayer represents that these section 501(c)(3) tax-exempt organizations will \\nhave the same basis in the Property as Taxpayer will have at the time of the transfer \\npursuant to section 1015(a).\\nRULING REQUESTED\\nTaxpayer requests the following ruling:\\nIf the Property is contributed to one or more section 501(c)(3) tax-exempt \\norganizations, the charitable deduction attributable to the value of the \\ncontribution will not be reduced by twenty percent of the accumulated \\ndepreciation of the Property pursuant to section 291(a)(1).\\nLAW AND ANALYSIS\\nSection 170 generally allows a deduction, subject to certain limitations, for \\ncharitable contributions made during the taxable year to or for the use of organizations \\ndescribed in section 170(c), including section 501(c)(3) organizations.\\nSection 170A-1(c)(1) of the Income Tax Regulations provides that if a charitable \\ncontribution is made in property other than money, the amount of the contribution is the \\nfair market value of the property at the time of the contribution, reduced as provided in \\nsection 170(e)(1) and section 1.170A-4(a), or section 170(e)(3) and section 1.170A-\\n4A(c).\\nSection 170(e)(1) provides that the amount of any charitable contribution of \\nproperty otherwise taken into account under section 170 shall be reduced by, among \\nother amounts, the amount of gain that would not have been long-term capital gain \\n(determined without regard to section 1221(b)(3)) if the property contributed had been\\nsold by the taxpayer at its fair market value (determined at the time of such \\ncontribution).\\nPLR-132858-12\\n3\\nSection 1.170A-4(a)(1) provides that in the case of a contribution by an individual \\nor by a corporation of ordinary income property, as defined in section 1.170A-4(b)(1), \\nthe amount of the charitable contribution that would be taken into account under section \\n170(a) without regard to section 170(e) shall be reduced before applying the percentage \\nlimitations under section 170(b) by the amount of gain that would have been recognized \\nas gain that is not long-term capital gain if the property had been sold by the donor at its \\nfair market value at the time of its contribution to the charitable organization.\\nSection 1.170A-4(b)(1) defines the term “ordinary income property” as meaning \\nproperty any portion of the gain on which would not have been long-term capital gain if \\nthe property had been sold by the donor at its fair market value at the time of its \\ncontribution to the charitable organization.\\nSection 291(a)(1) provides that in a case where a corporation disposes of section \\n1250 property, an amount equal to twenty percent of the excess, if any, of (A) the \\namount that would be treated as ordinary income if such property was section 1245 \\nproperty, over (B) the amount treated as ordinary income under section 1250 \\n(determined without regard to section 291(a)(1)), shall be treated as gain which is \\nordinary income under section 1250 and shall be recognized notwithstanding any other \\nprovision of Subtitle A of the Code.  Section 291(a)(1) further provides that under \\nregulations prescribed by the Secretary, the provisions of section 291(a)(1) will not \\napply to the disposition of any property to the extent that section 1250(a) does not apply \\nto such disposition by reason of section 1250(d).\\nIf section 1245 property is disposed of, section 1245(a)(1) generally provides that \\nthe amount by which the lower of (A) the recomputed basis of the property, or (B) the \\namount realized (in the case of a sale, exchange, or involuntary conversion) or the fair \\nmarket value of such property (in the case of any other disposition), exceeds the \\nadjusted basis of such property is treated as ordinary income.  Such gain is recognized \\nnotwithstanding any other provision of Subtitle A of the Code.\\nSection 1245(a)(2) defines the term “recomputed basis” with respect to any \\nproperty as meaning, generally, its adjusted basis recomputed by adding thereto all \\nadjustments reflected in such adjusted basis on account of deductions (whether in \\nrespect of the same or other property) allowed or allowable to the taxpayer or to any \\nother person for depreciation or amortization.   \\nIf section 1250 property is disposed of after December 31, 1975, section \\n1250(a)(1)(A) generally provides that 100 percent of the lower of (i) that portion of the \\nadditional depreciation attributable to periods after December 31, 1975, in respect of \\nsuch property, or (ii) the excess of the amount realized (in the case of a sale, exchange, \\nor involuntary conversion), or the fair market value of such property (in the case of any \\nother disposition), over the adjusted basis of such property, is treated as gain that is \\nPLR-132858-12\\n4\\nordinary income.  Such gain is recognized notwithstanding any other provision of \\nSubtitle A of the Code.\\nSection 1250(b)(1) defines the term “additional depreciation” as meaning, in the \\ncase of any property, the depreciation adjustments in respect of such property; except \\nthat, in the case of property held more than one year, it means such adjustments only to \\nthe extent that they exceed the amount of the depreciation adjustments that would have \\nresulted if such adjustments had been determined for each taxable year under the \\nstraight-line method of depreciation.\\nSection 1250(d)(1) provides that section 1250(a) shall not apply to a disposition \\nby gift.\\nSection 1.1250-3(a)(1) provides that, for purposes of section 1250(d)(1), the term \\n“gift” shall have the same meaning as in section 1.1245-4(a).\\nSection 1.1245-4(a) provides that the term “gift” means, generally, a transfer of \\nproperty which, in the hands of the transferee, has a basis determined under the \\nprovisions of section 1015(a) or (d) (relating to basis of property acquired by gifts).\\nIf section 1250 property is disposed of by gift (as defined in sections 1.1250-\\n3(a)(1) and 1.1245-4(a)), section 1250(d)(1) provides that section 1250(a) does not \\napply to such disposition.  Consequently, section 291(a)(1) would not apply to a gift (as \\ndefined in sections 1.1250-3(a)(1) and 1.1245-4(a)) of section 1250 property.  \\nIn this case, Taxpayer represents that it intends to contribute the Property to one \\nor more organizations that are section 501(c)(3) tax-exempt organizations, that this \\nintended contribution will be a valid charitable contribution that meets the requirements \\nof section 170, and that these section 501(c)(3) tax-exempt organizations will have a \\nbasis in the Property equal to Taxpayer’s basis in the Property at the time of transfer \\npursuant to section 1015(a).  These are material representations.  Because the basis of \\nthe Property in the hands of the section 501(c)(3) tax-exempt organizations will be the \\nsame as Taxpayer’s basis in the Property at the time of the transfer pursuant to section \\n1015(a), the contribution of the Property by Taxpayer to the section 501(c)(3) \\norganizations is a gift for purposes of sections 1250(d)(1) and 1.1250-3(a)(1).  \\nAccordingly, the provisions of section 291(a)(1) will not apply to Taxpayer’s disposition \\nof the Property to the section 501(c)(3) tax-exempt organizations.\\nCONCLUSION\\nBased solely on Taxpayer’s representations and the relevant law and analysis \\nset forth above, we conclude that if the Property is contributed to one or more section \\n501(c)(3) tax-exempt organizations, the charitable deduction attributable to the value of \\nPLR-132858-12\\n5\\nthe contribution will not be reduced by twenty percent of the accumulated depreciation \\nof the Property pursuant to section 291(a)(1).\\nExcept as specifically set forth above, no opinion is expressed or implied \\nconcerning the tax consequences of the facts described above under any other \\nprovisions of the Code.  Specifically, this letter ruling is based upon Taxpayer’s \\ndescription of the proposed contribution of property to certain section 501(c)(3) \\norganizations.  This letter ruling does not address whether the proposed contribution is \\na valid charitable contribution that meets the requirements of section 170.  Further, the \\namount of the deduction for the proposed contribution is outside the scope of this letter \\nruling, and no approval of the amount should be inferred from this letter ruling.  \\nMoreover, no opinion is expressed or implied on (i) whether any of the property located \\nat B is section 1250 property, and (ii) the propriety of Taxpayer’s methods of \\ndepreciating the property located at B.\\nThis letter ruling is directed only to the taxpayer requesting it.  Section 6110(k)(3) \\nprovides that it may not be used or cited as precedent.\\nIn accordance with the power of attorney, we are sending a copy of this letter to \\nTaxpayer’s authorized representatives.  We are also sending a copy of this letter to the \\nappropriate operating division director.\\nSincerely,\\nKathleen Reed\\nKathleen Reed\\nChief, Branch 7\\nOffice of Associate Chief Counsel\\n(Income Tax and Accounting)\\nEnclosures (2):\\ncopy of this letter\\ncopy for section 6110 purposes \\n```\\n\\n        Provide your output as one of the two values: Adverse or Non-Adverse.'},\n",
       "  {'role': 'assistant', 'content': 'Non-Adverse'}]}"
      ]
     },
     "execution_count": 78,
     "metadata": {},
     "output_type": "execute_result"
    }
   ],
   "source": [
    "all_conversations_2[0]"
   ]
  },
  {
   "cell_type": "markdown",
   "metadata": {},
   "source": [
    "Make a smaller subset of this to train on"
   ]
  },
  {
   "cell_type": "code",
   "execution_count": 79,
   "metadata": {},
   "outputs": [],
   "source": [
    "training_subset_2 = all_conversations_2[:10]"
   ]
  },
  {
   "cell_type": "code",
   "execution_count": 81,
   "metadata": {},
   "outputs": [],
   "source": [
    "with open('instances_2.jsonl', 'w') as f:\n",
    "    for conversation in training_subset_2:\n",
    "        json.dump(conversation, f)\n",
    "        f.write('\\n')"
   ]
  },
  {
   "cell_type": "code",
   "execution_count": 111,
   "metadata": {},
   "outputs": [],
   "source": [
    "with open('instances_2.jsonl', 'rb') as f:\n",
    "    response = client.files.create(file = f, purpose = 'fine-tune')"
   ]
  },
  {
   "cell_type": "code",
   "execution_count": 112,
   "metadata": {},
   "outputs": [
    {
     "data": {
      "text/plain": [
       "FileObject(id='file-opjCB81zi52MMOzpKfw8SxER', bytes=166566, created_at=1714670754, filename='instances_2.jsonl', object='file', purpose='fine-tune', status='processed', status_details=None)"
      ]
     },
     "execution_count": 112,
     "metadata": {},
     "output_type": "execute_result"
    }
   ],
   "source": [
    "response"
   ]
  },
  {
   "cell_type": "code",
   "execution_count": 113,
   "metadata": {},
   "outputs": [],
   "source": [
    "file_id = 'file-opjCB81zi52MMOzpKfw8SxER'"
   ]
  },
  {
   "cell_type": "code",
   "execution_count": 114,
   "metadata": {},
   "outputs": [],
   "source": [
    "response = client.fine_tuning.jobs.create(\n",
    "    training_file = file_id,\n",
    "    model = 'gpt-3.5-turbo-1106'\n",
    ")"
   ]
  },
  {
   "cell_type": "code",
   "execution_count": 115,
   "metadata": {},
   "outputs": [
    {
     "data": {
      "text/plain": [
       "FineTuningJob(id='ftjob-E6l8PgRADbR4a8PL6R5XMzWE', created_at=1714670777, error=Error(code=None, message=None, param=None), fine_tuned_model=None, finished_at=None, hyperparameters=Hyperparameters(n_epochs='auto', batch_size='auto', learning_rate_multiplier='auto'), model='gpt-3.5-turbo-1106', object='fine_tuning.job', organization_id='org-iSAPcQOGLvWwrnZj238M19jr', result_files=[], status='validating_files', trained_tokens=None, training_file='file-opjCB81zi52MMOzpKfw8SxER', validation_file=None, user_provided_suffix=None, seed=1396507463, estimated_finish=None, integrations=[])"
      ]
     },
     "execution_count": 115,
     "metadata": {},
     "output_type": "execute_result"
    }
   ],
   "source": [
    "response"
   ]
  },
  {
   "cell_type": "code",
   "execution_count": 119,
   "metadata": {},
   "outputs": [
    {
     "data": {
      "text/plain": [
       "FineTuningJob(id='ftjob-E6l8PgRADbR4a8PL6R5XMzWE', created_at=1714670777, error=Error(code=None, message=None, param=None), fine_tuned_model='ft:gpt-3.5-turbo-1106:personal::9KUZajlq', finished_at=1714671109, hyperparameters=Hyperparameters(n_epochs=10, batch_size=1, learning_rate_multiplier=2), model='gpt-3.5-turbo-1106', object='fine_tuning.job', organization_id='org-iSAPcQOGLvWwrnZj238M19jr', result_files=['file-cRTcaRLXaDphAjLa4Ap0pq2i'], status='succeeded', trained_tokens=349910, training_file='file-opjCB81zi52MMOzpKfw8SxER', validation_file=None, user_provided_suffix=None, seed=1396507463, estimated_finish=None, integrations=[])"
      ]
     },
     "execution_count": 119,
     "metadata": {},
     "output_type": "execute_result"
    }
   ],
   "source": [
    "job_id = 'ftjob-E6l8PgRADbR4a8PL6R5XMzWE'\n",
    "client.fine_tuning.jobs.retrieve(job_id)"
   ]
  },
  {
   "cell_type": "code",
   "execution_count": 120,
   "metadata": {},
   "outputs": [],
   "source": [
    "model_id = 'ft:gpt-3.5-turbo-1106:personal::9KUZajlq'"
   ]
  },
  {
   "cell_type": "code",
   "execution_count": 121,
   "metadata": {},
   "outputs": [],
   "source": [
    "def get_completion(prompt, model=model_id):\n",
    "    messages = [{\"role\": \"user\", \"content\": prompt}]\n",
    "    response = client.chat.completions.create(\n",
    "        model=model, messages=messages, temperature=0\n",
    "    )\n",
    "    return response.choices[0].message.content"
   ]
  },
  {
   "cell_type": "markdown",
   "metadata": {},
   "source": [
    "PLR Number: 200224023"
   ]
  },
  {
   "cell_type": "code",
   "execution_count": 122,
   "metadata": {},
   "outputs": [
    {
     "name": "stdout",
     "output_type": "stream",
     "text": [
      "Adverse\n"
     ]
    }
   ],
   "source": [
    "prompt = f\"\"\"\n",
    "        Here is the letter ruling, delimited by triple backticks, which has to be classified as Adverse or Non Adverse.\n",
    "\n",
    "        Letter Ruling: ```{plr_200224023}```\n",
    "\n",
    "        Provide your output as one of the two values: Adverse or Non-Adverse.\n",
    "\"\"\"\n",
    "\n",
    "response = get_completion(prompt)\n",
    "print(response)"
   ]
  },
  {
   "cell_type": "markdown",
   "metadata": {},
   "source": [
    "PLR Number: 200024009"
   ]
  },
  {
   "cell_type": "code",
   "execution_count": 123,
   "metadata": {},
   "outputs": [],
   "source": [
    "# convert PLR PDF to text\n",
    "pdf_to_convert = fitz.open(\"/Users/st414/Documents/PLR/elisa_plrs/train_set/200024009.pdf\")\n",
    "plr_200024009 = \"\"\n",
    "for page in pdf_to_convert:\n",
    "    text = page.get_text()\n",
    "    plr_200024009 += text"
   ]
  },
  {
   "cell_type": "code",
   "execution_count": 124,
   "metadata": {},
   "outputs": [
    {
     "name": "stdout",
     "output_type": "stream",
     "text": [
      "Non-Adverse\n"
     ]
    }
   ],
   "source": [
    "prompt = f\"\"\"\n",
    "        Here is the letter ruling, delimited by triple backticks, which has to be classified as Adverse or Non Adverse.\n",
    "\n",
    "        Letter Ruling: ```{plr_200024009}```\n",
    "\n",
    "        Provide your output as one of the two values: Adverse or Non-Adverse.\n",
    "\"\"\"\n",
    "\n",
    "response = get_completion(prompt)\n",
    "print(response)"
   ]
  },
  {
   "cell_type": "markdown",
   "metadata": {},
   "source": [
    "The results look better here and in the format we want. We can go ahead and test this model out on our test set and compare it with the result of the base 3.5 turbo model."
   ]
  },
  {
   "cell_type": "markdown",
   "metadata": {},
   "source": [
    "#### Comparing eval metrics between gpt 3.5 turbo 0125 and fine tuned version of the same model"
   ]
  },
  {
   "cell_type": "markdown",
   "metadata": {},
   "source": [
    "##### Base GPT 3.5 Turbo 1106"
   ]
  },
  {
   "cell_type": "code",
   "execution_count": 107,
   "metadata": {},
   "outputs": [],
   "source": [
    "def get_completion(prompt, model=\"gpt-3.5-turbo-1106\"):\n",
    "    messages = [{\"role\": \"user\", \"content\": prompt}]\n",
    "    response = client.chat.completions.create(\n",
    "        model=model, messages=messages, temperature=0\n",
    "    )\n",
    "    return response.choices[0].message.content"
   ]
  },
  {
   "cell_type": "code",
   "execution_count": 100,
   "metadata": {},
   "outputs": [
    {
     "name": "stdout",
     "output_type": "stream",
     "text": [
      "199906015.pdf\n",
      "199937008.pdf\n",
      "199923043.pdf\n",
      "199914013.pdf\n",
      "199941012.pdf\n",
      "199932028.pdf\n",
      "199929025.pdf\n",
      "199937025.pdf\n",
      "199917054.pdf\n",
      "199915022.pdf\n",
      "199915037.pdf\n",
      "199915023.pdf\n",
      "199947001.pdf\n",
      "199933018.pdf\n",
      "199952021.pdf\n",
      "199921030.pdf\n",
      "199928025.pdf\n",
      "199949008.pdf\n",
      "199952039.pdf\n",
      "199938021.pdf\n",
      "199936030.pdf\n",
      "199936024.pdf\n",
      "199915048.pdf\n",
      "199952060.pdf\n",
      "199922020.pdf\n",
      "199920027.pdf\n",
      "199951032.pdf\n",
      "199935016.pdf\n",
      "199911028.pdf\n",
      "200013012.pdf\n",
      "200001012.pdf\n",
      "200022019.pdf\n",
      "200006030.pdf\n",
      "200027028.pdf\n",
      "200051031.pdf\n",
      "200014009.pdf\n",
      "200020024.pdf\n",
      "200013015.pdf\n",
      "200041023.pdf\n",
      "200018036.pdf\n",
      "200046003.pdf\n",
      "200036024.pdf\n",
      "200049008.pdf\n",
      "200026020.pdf\n",
      "200052010.pdf\n",
      "200042015.pdf\n",
      "200017002.pdf\n",
      "200005016.pdf\n",
      "200047027.pdf\n",
      "200021016.pdf\n",
      "200042016.pdf\n",
      "200019017.pdf\n",
      "200010031.pdf\n",
      "200052028.pdf\n",
      "200024009.pdf\n",
      "200040014.pdf\n",
      "200037045.pdf\n",
      "200023030.pdf\n",
      "200017036.pdf\n",
      "200003043.pdf\n",
      "200025043.pdf\n",
      "200031036.pdf\n",
      "200009032.pdf\n",
      "200047002.pdf\n",
      "200026010.pdf\n",
      "200039022.pdf\n",
      "200029018.pdf\n",
      "200030011.pdf\n",
      "200029035.pdf\n",
      "200027018.pdf\n",
      "200046021.pdf\n",
      "200025035.pdf\n",
      "200022028.pdf\n",
      "200013022.pdf\n",
      "200006016.pdf\n",
      "200051012.pdf\n",
      "200147052.pdf\n",
      "200135015.pdf\n",
      "200111029.pdf\n",
      "200105059.pdf\n",
      "200116025.pdf\n",
      "200132032.pdf\n",
      "200140063.pdf\n",
      "200122045.pdf\n",
      "200152005.pdf\n",
      "200123004.pdf\n",
      "200109014.pdf\n",
      "200109017.pdf\n",
      "200125066.pdf\n",
      "200125072.pdf\n",
      "200125076.pdf\n",
      "200125075.pdf\n",
      "200121005.pdf\n",
      "200115028.pdf\n",
      "200125074.pdf\n",
      "200131018.pdf\n",
      "200148040.pdf\n",
      "200126014.pdf\n",
      "200102015.pdf\n",
      "200124011.pdf\n",
      "200102014.pdf\n",
      "200128038.pdf\n",
      "200107018.pdf\n",
      "200109037.pdf\n",
      "200124012.pdf\n",
      "200127042.pdf\n",
      "200121023.pdf\n",
      "200125080.pdf\n",
      "200133027.pdf\n",
      "200123037.pdf\n",
      "200117025.pdf\n",
      "200126011.pdf\n",
      "200121024.pdf\n",
      "200126004.pdf\n",
      "200110005.pdf\n",
      "200111036.pdf\n",
      "200118012.pdf\n",
      "200130013.pdf\n",
      "200120016.pdf\n",
      "200127022.pdf\n",
      "200140046.pdf\n",
      "200120014.pdf\n",
      "200129024.pdf\n",
      "200129021.pdf\n",
      "200140068.pdf\n",
      "200111025.pdf\n",
      "200151013.pdf\n",
      "200127027.pdf\n",
      "200123057.pdf\n",
      "200247014.pdf\n",
      "200206048.pdf\n",
      "200250025.pdf\n",
      "200203045.pdf\n",
      "200242025.pdf\n",
      "200245012.pdf\n",
      "200234012.pdf\n",
      "200215036.pdf\n",
      "200217023.pdf\n",
      "200219033.pdf\n",
      "200236005.pdf\n",
      "200226015.pdf\n",
      "200219018.pdf\n",
      "200217052.pdf\n",
      "200246023.pdf\n",
      "200215042.pdf\n",
      "200209053.pdf\n",
      "200204013.pdf\n",
      "200214014.pdf\n",
      "200230029.pdf\n",
      "200227030.pdf\n",
      "200205044.pdf\n",
      "200243029.pdf\n",
      "200208001.pdf\n",
      "200202060.pdf\n",
      "200203034.pdf\n",
      "200222007.pdf\n",
      "200227022.pdf\n",
      "200252063.pdf\n",
      "200213017.pdf\n",
      "200201003.pdf\n",
      "200243031.pdf\n",
      "200229015.pdf\n",
      "200241031.pdf\n",
      "200243034.pdf\n",
      "200244001.pdf\n",
      "200234040.pdf\n",
      "200234054.pdf\n",
      "200203015.pdf\n",
      "200225011.pdf\n",
      "200244016.pdf\n",
      "200201007.pdf\n",
      "200211016.pdf\n",
      "200226018.pdf\n",
      "200207001.pdf\n",
      "200207014.pdf\n",
      "200252001.pdf\n",
      "200228008.pdf\n",
      "200219016.pdf\n",
      "200203066.pdf\n",
      "200240002.pdf\n",
      "200233013.pdf\n",
      "200224023.pdf\n",
      "200236023.pdf\n",
      "200206047.pdf\n",
      "200240006.pdf\n",
      "200236024.pdf\n",
      "200226035.pdf\n",
      "200234009.pdf\n",
      "200236031.pdf\n",
      "200338004.pdf\n",
      "200336003.pdf\n",
      "200310007.pdf\n",
      "200307023.pdf\n",
      "200307037.pdf\n",
      "200327052.pdf\n",
      "200329042.pdf\n",
      "200323023.pdf\n",
      "200309020.pdf\n",
      "200318058.pdf\n",
      "200305009.pdf\n",
      "200307018.pdf\n",
      "200314017.pdf\n",
      "200301036.pdf\n",
      "200351004.pdf\n",
      "200311024.pdf\n",
      "200327018.pdf\n",
      "200332014.pdf\n",
      "200301032.pdf\n",
      "200322006.pdf\n",
      "200306037.pdf\n",
      "200304026.pdf\n",
      "200346001.pdf\n",
      "200335015.pdf\n",
      "200327016.pdf\n",
      "200311002.pdf\n",
      "200337006.pdf\n",
      "200347009.pdf\n",
      "200323015.pdf\n",
      "200310026.pdf\n",
      "200324037.pdf\n",
      "200328033.pdf\n",
      "200308042.pdf\n",
      "200324025.pdf\n",
      "200323010.pdf\n",
      "200414039.pdf\n",
      "200448034.pdf\n",
      "200446025.pdf\n",
      "200422013.pdf\n",
      "200404002.pdf\n",
      "200425033.pdf\n",
      "200430002.pdf\n",
      "200416007.pdf\n",
      "200403032.pdf\n",
      "200403095.pdf\n",
      "200434003.pdf\n",
      "200438028.pdf\n",
      "200419019.pdf\n",
      "200449015.pdf\n",
      "200447038.pdf\n",
      "200407008.pdf\n",
      "200452035.pdf\n",
      "200431009.pdf\n",
      "200434011.pdf\n",
      "200434004.pdf\n",
      "200403051.pdf\n",
      "200448050.pdf\n",
      "200410013.pdf\n",
      "200450033.pdf\n",
      "200402012.pdf\n",
      "200410012.pdf\n",
      "200442003.pdf\n",
      "200447033.pdf\n",
      "200403048.pdf\n",
      "200450004.pdf\n",
      "200440003.pdf\n",
      "200423016.pdf\n",
      "200433013.pdf\n",
      "200413010.pdf\n",
      "200403016.pdf\n",
      "200443033.pdf\n",
      "200451027.pdf\n",
      "200435006.pdf\n",
      "200448038.pdf\n",
      "200427011.pdf\n",
      "200532015.pdf\n",
      "200537019.pdf\n",
      "200527021.pdf\n",
      "200546030.pdf\n",
      "200516017.pdf\n",
      "200514003.pdf\n",
      "200530002.pdf\n",
      "200543006.pdf\n",
      "200529008.pdf\n",
      "200501020.pdf\n",
      "200520011.pdf\n",
      "200519026.pdf\n",
      "200518066.pdf\n",
      "200505023.pdf\n",
      "200547013.pdf\n",
      "200542009.pdf\n",
      "200509031.pdf\n",
      "200547001.pdf\n",
      "200509030.pdf\n",
      "200526004.pdf\n",
      "200526010.pdf\n",
      "200534013.pdf\n",
      "200510006.pdf\n",
      "200509027.pdf\n",
      "200538022.pdf\n",
      "200531012.pdf\n",
      "200517016.pdf\n",
      "200509029.pdf\n",
      "200519010.pdf\n",
      "200550015.pdf\n",
      "200538020.pdf\n",
      "200509028.pdf\n",
      "200521015.pdf\n",
      "200532051.pdf\n",
      "200518055.pdf\n",
      "200518054.pdf\n",
      "200531002.pdf\n",
      "200503028.pdf\n",
      "200508021.pdf\n",
      "200508020.pdf\n",
      "200508022.pdf\n",
      "200546017.pdf\n",
      "200535006.pdf\n",
      "200532025.pdf\n",
      "200546001.pdf\n",
      "200511011.pdf\n",
      "200508031.pdf\n",
      "200508019.pdf\n",
      "200623003.pdf\n",
      "200605012.pdf\n",
      "200649026.pdf\n",
      "200606043.pdf\n",
      "200602025.pdf\n",
      "200602019.pdf\n",
      "200602030.pdf\n",
      "200640001.pdf\n",
      "200605014.pdf\n",
      "200607011.pdf\n",
      "200621002.pdf\n",
      "200636096.pdf\n",
      "200627012.pdf\n",
      "200622022.pdf\n",
      "200629007.pdf\n",
      "200611002.pdf\n",
      "200616034.pdf\n",
      "200636086.pdf\n",
      "200635014.pdf\n",
      "200603031.pdf\n",
      "200646009.pdf\n",
      "200618003.pdf\n",
      "200624063.pdf\n",
      "200601023.pdf\n",
      "200620016.pdf\n",
      "200601032.pdf\n",
      "200630005.pdf\n",
      "200644021.pdf\n",
      "200626012.pdf\n",
      "200612002.pdf\n",
      "200612017.pdf\n",
      "200610005.pdf\n",
      "200619019.pdf\n",
      "200626015.pdf\n",
      "200652031.pdf\n",
      "200638016.pdf\n",
      "200717013.pdf\n",
      "200708078.pdf\n",
      "200708044.pdf\n",
      "200702025.pdf\n",
      "200702031.pdf\n",
      "200734009.pdf\n",
      "200707005.pdf\n",
      "200707011.pdf\n",
      "200702036.pdf\n",
      "200712033.pdf\n",
      "200707006.pdf\n",
      "200716019.pdf\n",
      "200701001.pdf\n",
      "200707060.pdf\n",
      "200707067.pdf\n",
      "200704036.pdf\n",
      "200702043.pdf\n",
      "200737013.pdf\n",
      "200701013.pdf\n",
      "200707058.pdf\n",
      "200708021.pdf\n",
      "200718018.pdf\n",
      "200716034.pdf\n",
      "200718028.pdf\n",
      "200708010.pdf\n",
      "200704010.pdf\n",
      "200735026.pdf\n",
      "200751013.pdf\n",
      "200730003.pdf\n",
      "200718002.pdf\n",
      "200707052.pdf\n",
      "200722007.pdf\n",
      "200707132.pdf\n",
      "200716016.pdf\n",
      "200714013.pdf\n",
      "200707053.pdf\n",
      "200709054.pdf\n",
      "200726006.pdf\n",
      "200747003.pdf\n",
      "200752023.pdf\n",
      "200705019.pdf\n",
      "200702011.pdf\n",
      "200728029.pdf\n",
      "200707021.pdf\n",
      "200707145.pdf\n",
      "200750009.pdf\n",
      "200723031.pdf\n",
      "200708063.pdf\n",
      "200712013.pdf\n",
      "200712006.pdf\n",
      "200709022.pdf\n",
      "200834013.pdf\n",
      "200847014.pdf\n",
      "200850024.pdf\n",
      "200809031.pdf\n",
      "200831019.pdf\n",
      "200819018.pdf\n",
      "200815026.pdf\n",
      "200802016.pdf\n",
      "200835019.pdf\n",
      "200825009.pdf\n",
      "200804010.pdf\n",
      "200804004.pdf\n",
      "200832011.pdf\n",
      "200841028.pdf\n",
      "200851013.pdf\n",
      "200841013.pdf\n",
      "200808016.pdf\n",
      "200811009.pdf\n",
      "200813025.pdf\n",
      "200827004.pdf\n",
      "200813028.pdf\n",
      "200832019.pdf\n",
      "200832024.pdf\n",
      "200837002.pdf\n",
      "200801006.pdf\n",
      "200845043.pdf\n",
      "200841019.pdf\n",
      "200803014.pdf\n",
      "200848014.pdf\n",
      "200805007.pdf\n",
      "200809013.pdf\n",
      "200845027.pdf\n",
      "200840016.pdf\n",
      "200815004.pdf\n",
      "200842001.pdf\n",
      "200842029.pdf\n",
      "200826022.pdf\n",
      "200831006.pdf\n",
      "200845023.pdf\n",
      "200809017.pdf\n",
      "200919022.pdf\n",
      "200919020.pdf\n",
      "200912004.pdf\n",
      "200921020.pdf\n",
      "200915032.pdf\n",
      "200942022.pdf\n",
      "200910002.pdf\n",
      "200951004.pdf\n",
      "200946023.pdf\n",
      "200941003.pdf\n",
      "200916007.pdf\n",
      "200908013.pdf\n",
      "200916017.pdf\n",
      "200922012.pdf\n",
      "200943003.pdf\n",
      "200916014.pdf\n",
      "200943019.pdf\n",
      "200930035.pdf\n",
      "200901029.pdf\n",
      "200943026.pdf\n",
      "200927002.pdf\n",
      "200916021.pdf\n",
      "200911001.pdf\n",
      "200936024.pdf\n",
      "200919011.pdf\n",
      "200942029.pdf\n",
      "200909028.pdf\n",
      "201017029.pdf\n",
      "201017028.pdf\n",
      "201026023.pdf\n",
      "201005017.pdf\n",
      "201036008.pdf\n",
      "201035003.pdf\n",
      "201043008.pdf\n",
      "201043019.pdf\n",
      "201022008.pdf\n",
      "201029002.pdf\n",
      "201003012.pdf\n",
      "201032032.pdf\n",
      "201007050.pdf\n",
      "201029018.pdf\n",
      "201032010.pdf\n",
      "201015031.pdf\n",
      "201049003.pdf\n",
      "201036002.pdf\n",
      "201034007.pdf\n",
      "201019008.pdf\n",
      "201142003.pdf\n",
      "201109003.pdf\n",
      "201152014.pdf\n",
      "201136008.pdf\n",
      "201111017.pdf\n",
      "201108021.pdf\n",
      "201114019.pdf\n",
      "201103001.pdf\n",
      "201104020.pdf\n",
      "201148005.pdf\n",
      "201108025.pdf\n",
      "201132016.pdf\n",
      "201114010.pdf\n",
      "201116001.pdf\n",
      "201122014.pdf\n",
      "201108004.pdf\n",
      "201122003.pdf\n",
      "201138014.pdf\n",
      "201138029.pdf\n",
      "201134015.pdf\n",
      "201149017.pdf\n",
      "201119026.pdf\n",
      "201138002.pdf\n",
      "201110006.pdf\n",
      "201105031.pdf\n",
      "201147015.pdf\n",
      "201251006.pdf\n",
      "201208007.pdf\n",
      "201220012.pdf\n",
      "201244008.pdf\n",
      "201243001.pdf\n",
      "201222011.pdf\n",
      "201202004.pdf\n",
      "201212001.pdf\n",
      "201249013.pdf\n",
      "201250009.pdf\n",
      "201240001.pdf\n",
      "201242003.pdf\n",
      "201217017.pdf\n",
      "201217001.pdf\n",
      "201208035.pdf\n",
      "201213005.pdf\n",
      "201201004.pdf\n",
      "201203003.pdf\n",
      "201248002.pdf\n",
      "201318003.pdf\n",
      "201330004.pdf\n",
      "201319009.pdf\n",
      "201347012.pdf\n",
      "201347006.pdf\n",
      "201324009.pdf\n",
      "201309011.pdf\n",
      "201352003.pdf\n",
      "201312027.pdf\n",
      "201340005.pdf\n",
      "201315004.pdf\n",
      "201338035.pdf\n",
      "201319004.pdf\n",
      "201330022.pdf\n",
      "201308018.pdf\n",
      "201330025.pdf\n",
      "201327003.pdf\n",
      "201412007.pdf\n",
      "201412013.pdf\n",
      "201405008.pdf\n",
      "201412001.pdf\n",
      "201412002.pdf\n",
      "201438006.pdf\n",
      "201426007.pdf\n",
      "201440023.pdf\n",
      "201429019.pdf\n",
      "201408001.pdf\n",
      "201408017.pdf\n",
      "201441012.pdf\n",
      "201444022.pdf\n",
      "201420010.pdf\n",
      "201430029.pdf\n",
      "201416011.pdf\n",
      "201442045.pdf\n",
      "201408010.pdf\n",
      "201427013.pdf\n",
      "201427012.pdf\n",
      "201430020.pdf\n",
      "201432031.pdf\n",
      "201425001.pdf\n",
      "201444005.pdf\n",
      "201408025.pdf\n",
      "201405002.pdf\n",
      "201436026.pdf\n",
      "201436019.pdf\n",
      "201407011.pdf\n",
      "201434030.pdf\n",
      "201428021.pdf\n",
      "201424008.pdf\n",
      "201431002.pdf\n",
      "201452002.pdf\n",
      "201552032.pdf\n",
      "201521009.pdf\n",
      "201528002.pdf\n",
      "201551006.pdf\n",
      "201543004.pdf\n",
      "201503001.pdf\n",
      "201532026.pdf\n",
      "201549019.pdf\n",
      "201538026.pdf\n",
      "201625001.pdf\n",
      "201623001.pdf\n",
      "201619007.pdf\n",
      "201610006.pdf\n",
      "201633021.pdf\n",
      "201628005.pdf\n",
      "201628004.pdf\n",
      "201628006.pdf\n",
      "201622007.pdf\n",
      "201616002.pdf\n",
      "201748005.pdf\n",
      "201740016.pdf\n",
      "201740005.pdf\n",
      "201722014.pdf\n",
      "201751011.pdf\n",
      "201706006.pdf\n",
      "201741012.pdf\n",
      "201722010.pdf\n",
      "201816004.pdf\n",
      "201828010.pdf\n",
      "201815005.pdf\n",
      "201819006.pdf\n",
      "201825003.pdf\n",
      "201811002.pdf\n",
      "201825006.pdf\n",
      "201951001.pdf\n",
      "201926006.pdf\n",
      "201927005.pdf\n",
      "201927012.pdf\n",
      "201943020.pdf\n",
      "202005020.pdf\n",
      "202016001.pdf\n",
      "202014004.pdf\n",
      "202022005.pdf\n",
      "202014005.pdf\n",
      "202014001.pdf\n",
      "202014002.pdf\n",
      "202014003.pdf\n",
      "202138001.pdf\n",
      "202114001.pdf\n",
      "202125007.pdf\n",
      "202144005.pdf\n",
      "202118021.pdf\n",
      "202242012.pdf\n",
      "202223007.pdf\n",
      "202219006.pdf\n",
      "202219007.pdf\n",
      "202205001.pdf\n",
      "202219008.pdf\n",
      "202205022.pdf\n",
      "202205023.pdf\n",
      "202206010.pdf\n"
     ]
    }
   ],
   "source": [
    "years = list(range(1999,2023))\n",
    "folder_path = \"/Users/st414/Documents/PLR/elisa_plrs/train_set/finetune_test\"\n",
    "base_test_eval = iterate_multiple_years(years, folder_path)"
   ]
  },
  {
   "cell_type": "code",
   "execution_count": 103,
   "metadata": {},
   "outputs": [
    {
     "name": "stdout",
     "output_type": "stream",
     "text": [
      "Accuracy: 94.84%\n",
      "Recall: 78.67%\n",
      "Precision: 81.94%\n"
     ]
    }
   ],
   "source": [
    "calculate_metrics(base_test_eval, reference_set)"
   ]
  },
  {
   "cell_type": "markdown",
   "metadata": {},
   "source": [
    "Let's test it out on a smaller subset as well - (due to budget constraints we can't test the fine tuned model on the entire test data set)"
   ]
  },
  {
   "cell_type": "code",
   "execution_count": 108,
   "metadata": {},
   "outputs": [
    {
     "name": "stdout",
     "output_type": "stream",
     "text": [
      "201748005.pdf\n",
      "201740016.pdf\n",
      "201740005.pdf\n",
      "201722014.pdf\n",
      "201751011.pdf\n",
      "201706006.pdf\n",
      "201741012.pdf\n",
      "201722010.pdf\n",
      "201816004.pdf\n",
      "201828010.pdf\n",
      "201815005.pdf\n",
      "201819006.pdf\n",
      "201825003.pdf\n",
      "201811002.pdf\n",
      "201825006.pdf\n",
      "201951001.pdf\n",
      "201926006.pdf\n",
      "201927005.pdf\n",
      "201927012.pdf\n",
      "201943020.pdf\n",
      "202005020.pdf\n",
      "202016001.pdf\n",
      "202014004.pdf\n",
      "202022005.pdf\n",
      "202014005.pdf\n",
      "202014001.pdf\n",
      "202014002.pdf\n",
      "202014003.pdf\n",
      "202138001.pdf\n",
      "202114001.pdf\n",
      "202125007.pdf\n",
      "202144005.pdf\n",
      "202118021.pdf\n"
     ]
    }
   ],
   "source": [
    "years = list(range(2017,2022))\n",
    "folder_path = \"/Users/st414/Documents/PLR/elisa_plrs/train_set/finetune_test\"\n",
    "base_test_eval_subset = iterate_multiple_years(years, folder_path)"
   ]
  },
  {
   "cell_type": "markdown",
   "metadata": {},
   "source": [
    "Eval metrics with base gpt 3.5 turbo 1106"
   ]
  },
  {
   "cell_type": "code",
   "execution_count": 109,
   "metadata": {},
   "outputs": [
    {
     "name": "stdout",
     "output_type": "stream",
     "text": [
      "Accuracy: 70.37%\n",
      "Recall: 88.24%\n",
      "Precision: 71.43%\n"
     ]
    }
   ],
   "source": [
    "calculate_metrics(base_test_eval_subset, reference_set)"
   ]
  },
  {
   "cell_type": "markdown",
   "metadata": {},
   "source": [
    "Eval metrics with base gpt 3.5 turbo 0125"
   ]
  },
  {
   "cell_type": "code",
   "execution_count": 106,
   "metadata": {},
   "outputs": [
    {
     "name": "stdout",
     "output_type": "stream",
     "text": [
      "Accuracy: 74.07%\n",
      "Recall: 64.71%\n",
      "Precision: 91.67%\n"
     ]
    }
   ],
   "source": [
    "calculate_metrics(base_test_eval_subset, reference_set)"
   ]
  },
  {
   "cell_type": "markdown",
   "metadata": {},
   "source": [
    "##### Fine tuned gpt 3.5 turbo 1106"
   ]
  },
  {
   "cell_type": "code",
   "execution_count": 127,
   "metadata": {},
   "outputs": [],
   "source": [
    "def get_completion(prompt, model=model_id):\n",
    "    messages = [{\"role\": \"user\", \"content\": prompt}]\n",
    "    response = client.chat.completions.create(\n",
    "        model=model, messages=messages, temperature=0\n",
    "    )\n",
    "    return response.choices[0].message.content"
   ]
  },
  {
   "cell_type": "code",
   "execution_count": 128,
   "metadata": {},
   "outputs": [],
   "source": [
    "def get_plr_classification(year, folder_path):\n",
    "    plr_classification_list = []\n",
    "    plr_list_by_year = files_by_year(year, folder_path)\n",
    "    for plr in plr_list_by_year:\n",
    "        plr_classification_dict = {}\n",
    "        plr_filepath = os.path.join(folder_path, plr)\n",
    "        pdf_to_convert = fitz.open(plr_filepath)\n",
    "        plr_text = \"\"\n",
    "        for page in pdf_to_convert:\n",
    "            text = page.get_text()\n",
    "            plr_text += text\n",
    "        # get classification\n",
    "        if len(encoding.encode(plr_text)) > 13000:\n",
    "            pass\n",
    "        else:\n",
    "            print(plr)\n",
    "            prompt = f\"\"\"\n",
    "            Here is the letter ruling, delimited by triple backticks, which has to be classified as Adverse or Non Adverse.\n",
    "\n",
    "            Letter Ruling: ```{plr_text}```\n",
    "\n",
    "            Provide your output as one of the two values: Adverse or Non-Adverse.\n",
    "        \"\"\"\n",
    "\n",
    "        response = get_completion(prompt)\n",
    "        plr_classification_dict = {int(plr.split(\".\")[0]): response}\n",
    "        plr_classification_list.append(plr_classification_dict)\n",
    "    return plr_classification_list"
   ]
  },
  {
   "cell_type": "code",
   "execution_count": 129,
   "metadata": {},
   "outputs": [
    {
     "name": "stdout",
     "output_type": "stream",
     "text": [
      "201748005.pdf\n",
      "201740016.pdf\n",
      "201740005.pdf\n",
      "201722014.pdf\n",
      "201751011.pdf\n",
      "201706006.pdf\n",
      "201741012.pdf\n",
      "201722010.pdf\n",
      "201816004.pdf\n",
      "201828010.pdf\n",
      "201815005.pdf\n",
      "201819006.pdf\n",
      "201825003.pdf\n",
      "201811002.pdf\n",
      "201825006.pdf\n",
      "201951001.pdf\n",
      "201926006.pdf\n",
      "201927005.pdf\n",
      "201927012.pdf\n",
      "201943020.pdf\n",
      "202005020.pdf\n",
      "202016001.pdf\n",
      "202014004.pdf\n",
      "202022005.pdf\n",
      "202014005.pdf\n",
      "202014001.pdf\n",
      "202014002.pdf\n",
      "202014003.pdf\n",
      "202138001.pdf\n",
      "202114001.pdf\n",
      "202125007.pdf\n",
      "202144005.pdf\n",
      "202118021.pdf\n"
     ]
    }
   ],
   "source": [
    "years = list(range(2017,2022))\n",
    "folder_path = \"/Users/st414/Documents/PLR/elisa_plrs/train_set/finetune_test\"\n",
    "finetuned_test_eval_subset = iterate_multiple_years(years, folder_path)"
   ]
  },
  {
   "cell_type": "markdown",
   "metadata": {},
   "source": [
    "Eval metrics with fine tunedgpt 3.5 turbo 1106"
   ]
  },
  {
   "cell_type": "code",
   "execution_count": 130,
   "metadata": {},
   "outputs": [
    {
     "name": "stdout",
     "output_type": "stream",
     "text": [
      "Accuracy: 88.89%\n",
      "Recall: 82.35%\n",
      "Precision: 100.00%\n"
     ]
    }
   ],
   "source": [
    "calculate_metrics(finetuned_test_eval_subset, reference_set)"
   ]
  },
  {
   "cell_type": "markdown",
   "metadata": {},
   "source": [
    "We get a better accuracy and precision with the fine tuned model compared to the base model but a lower recall. Since we want our model to have a higher recall as opposed to precision we will go ahead with the base gpt 3.5 turbo 1106 model."
   ]
  }
 ],
 "metadata": {
  "kernelspec": {
   "display_name": "base",
   "language": "python",
   "name": "python3"
  },
  "language_info": {
   "codemirror_mode": {
    "name": "ipython",
    "version": 3
   },
   "file_extension": ".py",
   "mimetype": "text/x-python",
   "name": "python",
   "nbconvert_exporter": "python",
   "pygments_lexer": "ipython3",
   "version": "3.10.12"
  },
  "orig_nbformat": 4
 },
 "nbformat": 4,
 "nbformat_minor": 2
}
